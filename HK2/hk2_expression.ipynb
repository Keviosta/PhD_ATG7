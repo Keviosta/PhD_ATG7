{
 "cells": [
  {
   "cell_type": "markdown",
   "metadata": {
    "id": "ifhgKXirU9Ds"
   },
   "source": [
    "# I] Import functions and options"
   ]
  },
  {
   "cell_type": "code",
   "execution_count": 1,
   "metadata": {
    "id": "TLQwwG5VDPFA"
   },
   "outputs": [],
   "source": [
    "import pandas, seaborn\n",
    "import scipy, scipy.stats\n",
    "import matplotlib, matplotlib.pyplot as plt\n",
    "# this is a trick to make figures look nicer\n",
    "matplotlib.rcParams.update({'font.size':20, 'font.family':'FreeSans', 'xtick.labelsize':20, 'ytick.labelsize':10, 'figure.figsize':(12, 8)})\n",
    "\n",
    "from matplotlib_venn import venn2"
   ]
  },
  {
   "cell_type": "code",
   "execution_count": 3,
   "metadata": {},
   "outputs": [],
   "source": [
    "input_file_directory = '/Users/kja11/OneDrive - Háskóli Íslands/PhD ATG7//0 in_silico/Python/1)data_input/'"
   ]
  },
  {
   "cell_type": "code",
   "execution_count": 4,
   "metadata": {},
   "outputs": [],
   "source": [
    "output_file_directory = '/Users/kja11/OneDrive - Háskóli Íslands/PhD ATG7/0 in_silico/Python/3)output/'"
   ]
  },
  {
   "cell_type": "markdown",
   "metadata": {
    "id": "fbjL51C8RltI"
   },
   "source": [
    "# II] Data download"
   ]
  },
  {
   "cell_type": "code",
   "execution_count": 26,
   "metadata": {},
   "outputs": [
    {
     "name": "stdout",
     "output_type": "stream",
     "text": [
      "(7429, 19387)\n",
      "(9185, 19387)\n",
      "Wall time: 3min 36s\n"
     ]
    },
    {
     "data": {
      "text/html": [
       "<div>\n",
       "<style scoped>\n",
       "    .dataframe tbody tr th:only-of-type {\n",
       "        vertical-align: middle;\n",
       "    }\n",
       "\n",
       "    .dataframe tbody tr th {\n",
       "        vertical-align: top;\n",
       "    }\n",
       "\n",
       "    .dataframe thead th {\n",
       "        text-align: right;\n",
       "    }\n",
       "</style>\n",
       "<table border=\"1\" class=\"dataframe\">\n",
       "  <thead>\n",
       "    <tr style=\"text-align: right;\">\n",
       "      <th></th>\n",
       "      <th>Sample_Type</th>\n",
       "      <th>Primary_Site</th>\n",
       "      <th>ATG7</th>\n",
       "      <th>ATG7_1</th>\n",
       "      <th>ATG7_2</th>\n",
       "      <th>ENSG00000198888</th>\n",
       "      <th>ENSG00000198763</th>\n",
       "      <th>ENSG00000198804</th>\n",
       "      <th>ENSG00000198712</th>\n",
       "      <th>ENSG00000228253</th>\n",
       "      <th>...</th>\n",
       "      <th>ENSG00000160678</th>\n",
       "      <th>ENSG00000160679</th>\n",
       "      <th>ENSG00000143553</th>\n",
       "      <th>ENSG00000214193</th>\n",
       "      <th>ENSG00000196182</th>\n",
       "      <th>ENSG00000181817</th>\n",
       "      <th>ENSG00000116885</th>\n",
       "      <th>ENSG00000116898</th>\n",
       "      <th>ENSG00000119535</th>\n",
       "      <th>ENSG00000142694</th>\n",
       "    </tr>\n",
       "  </thead>\n",
       "  <tbody>\n",
       "    <tr>\n",
       "      <th>0</th>\n",
       "      <td>Normal Tissue</td>\n",
       "      <td>Muscle</td>\n",
       "      <td>5.042</td>\n",
       "      <td>3.860</td>\n",
       "      <td>2.390</td>\n",
       "      <td>14.0639</td>\n",
       "      <td>13.9595</td>\n",
       "      <td>13.8503</td>\n",
       "      <td>14.4453</td>\n",
       "      <td>15.0971</td>\n",
       "      <td>...</td>\n",
       "      <td>2.7868</td>\n",
       "      <td>5.6494</td>\n",
       "      <td>5.0193</td>\n",
       "      <td>2.694</td>\n",
       "      <td>4.5274</td>\n",
       "      <td>5.0998</td>\n",
       "      <td>2.3423</td>\n",
       "      <td>6.0790</td>\n",
       "      <td>6.4861</td>\n",
       "      <td>4.9700</td>\n",
       "    </tr>\n",
       "    <tr>\n",
       "      <th>1</th>\n",
       "      <td>Normal Tissue</td>\n",
       "      <td>Muscle</td>\n",
       "      <td>4.252</td>\n",
       "      <td>2.322</td>\n",
       "      <td>1.956</td>\n",
       "      <td>13.9265</td>\n",
       "      <td>13.5455</td>\n",
       "      <td>15.2642</td>\n",
       "      <td>14.3855</td>\n",
       "      <td>15.1867</td>\n",
       "      <td>...</td>\n",
       "      <td>9.3501</td>\n",
       "      <td>6.1104</td>\n",
       "      <td>6.0570</td>\n",
       "      <td>1.177</td>\n",
       "      <td>6.8792</td>\n",
       "      <td>6.4325</td>\n",
       "      <td>2.1013</td>\n",
       "      <td>6.7035</td>\n",
       "      <td>1.1706</td>\n",
       "      <td>1.3167</td>\n",
       "    </tr>\n",
       "  </tbody>\n",
       "</table>\n",
       "<p>2 rows × 19387 columns</p>\n",
       "</div>"
      ],
      "text/plain": [
       "     Sample_Type Primary_Site   ATG7  ATG7_1  ATG7_2  ENSG00000198888  \\\n",
       "0  Normal Tissue       Muscle  5.042   3.860   2.390          14.0639   \n",
       "1  Normal Tissue       Muscle  4.252   2.322   1.956          13.9265   \n",
       "\n",
       "   ENSG00000198763  ENSG00000198804  ENSG00000198712  ENSG00000228253  ...  \\\n",
       "0          13.9595          13.8503          14.4453          15.0971  ...   \n",
       "1          13.5455          15.2642          14.3855          15.1867  ...   \n",
       "\n",
       "   ENSG00000160678  ENSG00000160679  ENSG00000143553  ENSG00000214193  \\\n",
       "0           2.7868           5.6494           5.0193            2.694   \n",
       "1           9.3501           6.1104           6.0570            1.177   \n",
       "\n",
       "   ENSG00000196182  ENSG00000181817  ENSG00000116885  ENSG00000116898  \\\n",
       "0           4.5274           5.0998           2.3423           6.0790   \n",
       "1           6.8792           6.4325           2.1013           6.7035   \n",
       "\n",
       "   ENSG00000119535  ENSG00000142694  \n",
       "0           6.4861           4.9700  \n",
       "1           1.1706           1.3167  \n",
       "\n",
       "[2 rows x 19387 columns]"
      ]
     },
     "execution_count": 26,
     "metadata": {},
     "output_type": "execute_result"
    }
   ],
   "source": [
    "%%time\n",
    "# DL data gene expression for Normal Tissue and Primary Tumors\n",
    "path = output_file_directory + \"/ATG7/dataframes_for_input/\"\n",
    "ensembl_normal_atg7_proteinGE = pandas.read_csv(path+\"ensembl_normal_atg7_proteinGE.tsv\", sep = \"\\t\")\n",
    "ensembl_primary_atg7_proteinGE = pandas.read_csv(path+\"ensembl_primary_atg7_proteinGE.tsv\", sep = \"\\t\")\n",
    "\n",
    "print(ensembl_normal_atg7_proteinGE.shape)\n",
    "print(ensembl_primary_atg7_proteinGE.shape)\n",
    "ensembl_normal_atg7_proteinGE.head(2)"
   ]
  },
  {
   "cell_type": "code",
   "execution_count": 8,
   "metadata": {
    "scrolled": true
   },
   "outputs": [
    {
     "name": "stdout",
     "output_type": "stream",
     "text": [
      "(22796, 4)\n",
      "Wall time: 25 ms\n"
     ]
    },
    {
     "data": {
      "text/html": [
       "<div>\n",
       "<style scoped>\n",
       "    .dataframe tbody tr th:only-of-type {\n",
       "        vertical-align: middle;\n",
       "    }\n",
       "\n",
       "    .dataframe tbody tr th {\n",
       "        vertical-align: top;\n",
       "    }\n",
       "\n",
       "    .dataframe thead th {\n",
       "        text-align: right;\n",
       "    }\n",
       "</style>\n",
       "<table border=\"1\" class=\"dataframe\">\n",
       "  <thead>\n",
       "    <tr style=\"text-align: right;\">\n",
       "      <th></th>\n",
       "      <th>ensembl_gene_id</th>\n",
       "      <th>hgnc_symbol</th>\n",
       "      <th>entrezgene_id</th>\n",
       "      <th>transcript_biotype</th>\n",
       "    </tr>\n",
       "  </thead>\n",
       "  <tbody>\n",
       "    <tr>\n",
       "      <th>1</th>\n",
       "      <td>ENSG00000198888</td>\n",
       "      <td>MT-ND1</td>\n",
       "      <td>4535.0</td>\n",
       "      <td>protein_coding</td>\n",
       "    </tr>\n",
       "    <tr>\n",
       "      <th>2</th>\n",
       "      <td>ENSG00000198763</td>\n",
       "      <td>MT-ND2</td>\n",
       "      <td>4536.0</td>\n",
       "      <td>protein_coding</td>\n",
       "    </tr>\n",
       "    <tr>\n",
       "      <th>3</th>\n",
       "      <td>ENSG00000198804</td>\n",
       "      <td>MT-CO1</td>\n",
       "      <td>4512.0</td>\n",
       "      <td>protein_coding</td>\n",
       "    </tr>\n",
       "    <tr>\n",
       "      <th>4</th>\n",
       "      <td>ENSG00000198712</td>\n",
       "      <td>MT-CO2</td>\n",
       "      <td>4513.0</td>\n",
       "      <td>protein_coding</td>\n",
       "    </tr>\n",
       "    <tr>\n",
       "      <th>5</th>\n",
       "      <td>ENSG00000228253</td>\n",
       "      <td>MT-ATP8</td>\n",
       "      <td>4509.0</td>\n",
       "      <td>protein_coding</td>\n",
       "    </tr>\n",
       "  </tbody>\n",
       "</table>\n",
       "</div>"
      ],
      "text/plain": [
       "   ensembl_gene_id hgnc_symbol  entrezgene_id transcript_biotype\n",
       "1  ENSG00000198888      MT-ND1         4535.0     protein_coding\n",
       "2  ENSG00000198763      MT-ND2         4536.0     protein_coding\n",
       "3  ENSG00000198804      MT-CO1         4512.0     protein_coding\n",
       "4  ENSG00000198712      MT-CO2         4513.0     protein_coding\n",
       "5  ENSG00000228253     MT-ATP8         4509.0     protein_coding"
      ]
     },
     "execution_count": 8,
     "metadata": {},
     "output_type": "execute_result"
    }
   ],
   "source": [
    "%%time\n",
    "#download the protein coding list. will be useful with correlation results.\n",
    "path = input_file_directory + \"protein_coding_list.txt\"\n",
    "protein_coding_list= pandas.read_csv(path, sep = \"\\t\")\n",
    "print(protein_coding_list.shape)\n",
    "protein_coding_list.head()"
   ]
  },
  {
   "cell_type": "markdown",
   "metadata": {
    "id": "ivLjI2vHTV5A"
   },
   "source": [
    "# III] HK2 Expression "
   ]
  },
  {
   "cell_type": "code",
   "execution_count": 29,
   "metadata": {
    "scrolled": true
   },
   "outputs": [
    {
     "data": {
      "text/html": [
       "<div>\n",
       "<style scoped>\n",
       "    .dataframe tbody tr th:only-of-type {\n",
       "        vertical-align: middle;\n",
       "    }\n",
       "\n",
       "    .dataframe tbody tr th {\n",
       "        vertical-align: top;\n",
       "    }\n",
       "\n",
       "    .dataframe thead th {\n",
       "        text-align: right;\n",
       "    }\n",
       "</style>\n",
       "<table border=\"1\" class=\"dataframe\">\n",
       "  <thead>\n",
       "    <tr style=\"text-align: right;\">\n",
       "      <th></th>\n",
       "      <th>Sample_Type</th>\n",
       "      <th>Primary_Site</th>\n",
       "      <th>ATG7</th>\n",
       "      <th>ATG7_1</th>\n",
       "      <th>ATG7_2</th>\n",
       "      <th>ENSG00000198888</th>\n",
       "      <th>ENSG00000198763</th>\n",
       "      <th>ENSG00000198804</th>\n",
       "      <th>ENSG00000198712</th>\n",
       "      <th>ENSG00000228253</th>\n",
       "      <th>...</th>\n",
       "      <th>ENSG00000160678</th>\n",
       "      <th>ENSG00000160679</th>\n",
       "      <th>ENSG00000143553</th>\n",
       "      <th>ENSG00000214193</th>\n",
       "      <th>ENSG00000196182</th>\n",
       "      <th>ENSG00000181817</th>\n",
       "      <th>ENSG00000116885</th>\n",
       "      <th>ENSG00000116898</th>\n",
       "      <th>ENSG00000119535</th>\n",
       "      <th>ENSG00000142694</th>\n",
       "    </tr>\n",
       "  </thead>\n",
       "  <tbody>\n",
       "    <tr>\n",
       "      <th>0</th>\n",
       "      <td>Normal Tissue</td>\n",
       "      <td>Muscle</td>\n",
       "      <td>5.042</td>\n",
       "      <td>3.860</td>\n",
       "      <td>2.390</td>\n",
       "      <td>14.0639</td>\n",
       "      <td>13.9595</td>\n",
       "      <td>13.8503</td>\n",
       "      <td>14.4453</td>\n",
       "      <td>15.0971</td>\n",
       "      <td>...</td>\n",
       "      <td>2.7868</td>\n",
       "      <td>5.6494</td>\n",
       "      <td>5.0193</td>\n",
       "      <td>2.6940</td>\n",
       "      <td>4.5274</td>\n",
       "      <td>5.0998</td>\n",
       "      <td>2.3423</td>\n",
       "      <td>6.0790</td>\n",
       "      <td>6.4861</td>\n",
       "      <td>4.9700</td>\n",
       "    </tr>\n",
       "    <tr>\n",
       "      <th>1</th>\n",
       "      <td>Normal Tissue</td>\n",
       "      <td>Muscle</td>\n",
       "      <td>4.252</td>\n",
       "      <td>2.322</td>\n",
       "      <td>1.956</td>\n",
       "      <td>13.9265</td>\n",
       "      <td>13.5455</td>\n",
       "      <td>15.2642</td>\n",
       "      <td>14.3855</td>\n",
       "      <td>15.1867</td>\n",
       "      <td>...</td>\n",
       "      <td>9.3501</td>\n",
       "      <td>6.1104</td>\n",
       "      <td>6.0570</td>\n",
       "      <td>1.1770</td>\n",
       "      <td>6.8792</td>\n",
       "      <td>6.4325</td>\n",
       "      <td>2.1013</td>\n",
       "      <td>6.7035</td>\n",
       "      <td>1.1706</td>\n",
       "      <td>1.3167</td>\n",
       "    </tr>\n",
       "    <tr>\n",
       "      <th>2</th>\n",
       "      <td>Normal Tissue</td>\n",
       "      <td>Muscle</td>\n",
       "      <td>3.909</td>\n",
       "      <td>2.602</td>\n",
       "      <td>1.345</td>\n",
       "      <td>14.2878</td>\n",
       "      <td>14.1511</td>\n",
       "      <td>14.3722</td>\n",
       "      <td>13.8211</td>\n",
       "      <td>14.8161</td>\n",
       "      <td>...</td>\n",
       "      <td>9.0646</td>\n",
       "      <td>5.9750</td>\n",
       "      <td>5.1173</td>\n",
       "      <td>1.8683</td>\n",
       "      <td>4.6136</td>\n",
       "      <td>5.0090</td>\n",
       "      <td>2.0604</td>\n",
       "      <td>5.7848</td>\n",
       "      <td>1.7489</td>\n",
       "      <td>4.6514</td>\n",
       "    </tr>\n",
       "    <tr>\n",
       "      <th>3</th>\n",
       "      <td>Normal Tissue</td>\n",
       "      <td>Muscle</td>\n",
       "      <td>3.854</td>\n",
       "      <td>2.568</td>\n",
       "      <td>1.428</td>\n",
       "      <td>13.8853</td>\n",
       "      <td>14.2716</td>\n",
       "      <td>15.1167</td>\n",
       "      <td>14.0622</td>\n",
       "      <td>15.5897</td>\n",
       "      <td>...</td>\n",
       "      <td>9.2252</td>\n",
       "      <td>5.4941</td>\n",
       "      <td>5.5880</td>\n",
       "      <td>-0.4521</td>\n",
       "      <td>5.6631</td>\n",
       "      <td>6.3797</td>\n",
       "      <td>2.5683</td>\n",
       "      <td>7.3214</td>\n",
       "      <td>1.6140</td>\n",
       "      <td>1.5563</td>\n",
       "    </tr>\n",
       "    <tr>\n",
       "      <th>4</th>\n",
       "      <td>Normal Tissue</td>\n",
       "      <td>Muscle</td>\n",
       "      <td>3.822</td>\n",
       "      <td>2.164</td>\n",
       "      <td>1.293</td>\n",
       "      <td>12.9986</td>\n",
       "      <td>13.7570</td>\n",
       "      <td>14.4661</td>\n",
       "      <td>13.4082</td>\n",
       "      <td>14.0564</td>\n",
       "      <td>...</td>\n",
       "      <td>8.9779</td>\n",
       "      <td>6.1502</td>\n",
       "      <td>5.1330</td>\n",
       "      <td>2.0289</td>\n",
       "      <td>6.8202</td>\n",
       "      <td>6.1789</td>\n",
       "      <td>1.8524</td>\n",
       "      <td>6.7685</td>\n",
       "      <td>2.8838</td>\n",
       "      <td>1.8323</td>\n",
       "    </tr>\n",
       "  </tbody>\n",
       "</table>\n",
       "<p>5 rows × 19387 columns</p>\n",
       "</div>"
      ],
      "text/plain": [
       "     Sample_Type Primary_Site   ATG7  ATG7_1  ATG7_2  ENSG00000198888  \\\n",
       "0  Normal Tissue       Muscle  5.042   3.860   2.390          14.0639   \n",
       "1  Normal Tissue       Muscle  4.252   2.322   1.956          13.9265   \n",
       "2  Normal Tissue       Muscle  3.909   2.602   1.345          14.2878   \n",
       "3  Normal Tissue       Muscle  3.854   2.568   1.428          13.8853   \n",
       "4  Normal Tissue       Muscle  3.822   2.164   1.293          12.9986   \n",
       "\n",
       "   ENSG00000198763  ENSG00000198804  ENSG00000198712  ENSG00000228253  ...  \\\n",
       "0          13.9595          13.8503          14.4453          15.0971  ...   \n",
       "1          13.5455          15.2642          14.3855          15.1867  ...   \n",
       "2          14.1511          14.3722          13.8211          14.8161  ...   \n",
       "3          14.2716          15.1167          14.0622          15.5897  ...   \n",
       "4          13.7570          14.4661          13.4082          14.0564  ...   \n",
       "\n",
       "   ENSG00000160678  ENSG00000160679  ENSG00000143553  ENSG00000214193  \\\n",
       "0           2.7868           5.6494           5.0193           2.6940   \n",
       "1           9.3501           6.1104           6.0570           1.1770   \n",
       "2           9.0646           5.9750           5.1173           1.8683   \n",
       "3           9.2252           5.4941           5.5880          -0.4521   \n",
       "4           8.9779           6.1502           5.1330           2.0289   \n",
       "\n",
       "   ENSG00000196182  ENSG00000181817  ENSG00000116885  ENSG00000116898  \\\n",
       "0           4.5274           5.0998           2.3423           6.0790   \n",
       "1           6.8792           6.4325           2.1013           6.7035   \n",
       "2           4.6136           5.0090           2.0604           5.7848   \n",
       "3           5.6631           6.3797           2.5683           7.3214   \n",
       "4           6.8202           6.1789           1.8524           6.7685   \n",
       "\n",
       "   ENSG00000119535  ENSG00000142694  \n",
       "0           6.4861           4.9700  \n",
       "1           1.1706           1.3167  \n",
       "2           1.7489           4.6514  \n",
       "3           1.6140           1.5563  \n",
       "4           2.8838           1.8323  \n",
       "\n",
       "[5 rows x 19387 columns]"
      ]
     },
     "execution_count": 29,
     "metadata": {},
     "output_type": "execute_result"
    }
   ],
   "source": [
    "ensembl_normal_atg7_proteinGE.head()"
   ]
  },
  {
   "cell_type": "code",
   "execution_count": 46,
   "metadata": {},
   "outputs": [],
   "source": [
    "#because ATG7(2) expression is correlated with HK2 in Normal Tissue \n",
    "#and we know HK2 is not expressed in all tissue. Where HK2 is expressed ?"
   ]
  },
  {
   "cell_type": "code",
   "execution_count": 47,
   "metadata": {},
   "outputs": [
    {
     "name": "stdout",
     "output_type": "stream",
     "text": [
      "      Primary_Site  ATG7(total)   ATG7(1)   ATG7(2)        HK2\n",
      "26          Testis    22.559422  9.606273  3.520579  35.903950\n",
      "15          Muscle     6.394430  2.361606  1.179131  21.102146\n",
      "0   Adipose Tissue    13.205544  6.711094  1.538953  20.953111\n",
      "3            Blood    13.524349  2.856719  3.904353  19.003701\n",
      "8            Colon     9.507805  5.548414  0.830093  17.250307\n"
     ]
    },
    {
     "data": {
      "image/png": "[encoded data removed]",
      "text/plain": [
       "<Figure size 864x576 with 1 Axes>"
      ]
     },
     "metadata": {
      "needs_background": "light"
     },
     "output_type": "display_data"
    },
    {
     "name": "stdout",
     "output_type": "stream",
     "text": [
      "            Primary_Site  ATG7(total)   ATG7(1)   ATG7(2)        HK2\n",
      "10  Head And Neck Region    14.523102  5.530002  3.438664  42.414856\n",
      "8              Esophagus    14.947511  5.657722  3.145191  39.530130\n",
      "6                  Colon    14.273716  5.547910  3.038977  35.624687\n",
      "20                Rectum    14.132734  5.812341  2.999638  33.519051\n",
      "14                  Lung    15.212185  5.684523  3.269985  32.241548\n"
     ]
    },
    {
     "data": {
      "image/png": "[encoded data removed]",
      "text/plain": [
       "<Figure size 864x576 with 1 Axes>"
      ]
     },
     "metadata": {
      "needs_background": "light"
     },
     "output_type": "display_data"
    },
    {
     "data": {
      "text/plain": [
       "<Figure size 864x576 with 0 Axes>"
      ]
     },
     "metadata": {},
     "output_type": "display_data"
    }
   ],
   "source": [
    "dfs = [[ensembl_normal_atg7_proteinGE, 'normal tissue', 'skyblue'], \n",
    "       [ensembl_primary_atg7_proteinGE, 'primary tumor', 'chocolate']]\n",
    "for df in dfs:\n",
    "    HK2_express = df[0][['Primary_Site', 'ATG7', 'ATG7_1', 'ATG7_2', 'ENSG00000159399']]\n",
    "    HK2_express = HK2_express.dropna(axis=0)\n",
    "    HK2_express[\"ATG7(total)\"] = pow(2,HK2_express['ATG7'])-0.001\n",
    "    HK2_express[\"ATG7(1)\"] = pow(2,HK2_express['ATG7_1'])-0.001\n",
    "    HK2_express[\"ATG7(2)\"] = pow(2,HK2_express['ATG7_2'])-0.001\n",
    "    HK2_express[\"HK2\"] = pow(2,HK2_express['ENSG00000159399'])-0.001\n",
    "\n",
    "    HK2_express= HK2_express[['Primary_Site', 'ATG7(total)', 'ATG7(1)', 'ATG7(2)', 'HK2']]\n",
    "    HK2_express['ATG7(2)'] = HK2_express['ATG7(2)'].abs()\n",
    "    HK2_express= HK2_express.groupby('Primary_Site').agg(numpy.mean)\n",
    "    HK2_express = HK2_express.reset_index()\n",
    "    HK2_express = HK2_express.sort_values(['HK2'], ascending = False)\n",
    "    print(HK2_express.head())\n",
    "    \n",
    "    # Seaborn\n",
    "    seaborn.barplot(data = HK2_express, x =  'HK2', y = 'Primary_Site', color = df[2], alpha=0.6)\n",
    "    # seaborn.barplot(data = HK2_express, x =  'ATG7(total)', y = 'Primary_Site', color = 'orange', alpha=0.6)\n",
    "    plt.title('HK2 expression in all ' + df[1])\n",
    "    plt.xlabel('HK2 expression in TPM')\n",
    "    plt.subplots_adjust(top=1.2)\n",
    "    plt.show()\n",
    "    plt.clf()"
   ]
  }
 ],
 "metadata": {
  "colab": {
   "collapsed_sections": [
    "scwtwuDCqUKz",
    "fbjL51C8RltI",
    "R8fLWHXOBYJl"
   ],
   "name": "all_organs.v004.ipynb",
   "provenance": []
  },
  "kernelspec": {
   "display_name": "Python 3",
   "language": "python",
   "name": "python3"
  },
  "language_info": {
   "codemirror_mode": {
    "name": "ipython",
    "version": 3
   },
   "file_extension": ".py",
   "mimetype": "text/x-python",
   "name": "python",
   "nbconvert_exporter": "python",
   "pygments_lexer": "ipython3",
   "version": "3.8.5"
  }
 },
 "nbformat": 4,
 "nbformat_minor": 1
}
