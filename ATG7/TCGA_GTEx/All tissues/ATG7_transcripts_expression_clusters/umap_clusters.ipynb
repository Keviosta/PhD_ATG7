{
 "cells": [
  {
   "cell_type": "code",
   "execution_count": 3,
   "metadata": {},
   "outputs": [],
   "source": [
    "import numpy, matplotlib, pandas"
   ]
  },
  {
   "cell_type": "code",
   "execution_count": 10,
   "metadata": {},
   "outputs": [
    {
     "name": "stdout",
     "output_type": "stream",
     "text": [
      "Requirement already satisfied: scanpy in c:\\users\\kja11\\anaconda3\\lib\\site-packages (1.9.1)\n",
      "Requirement already satisfied: umap-learn>=0.3.10 in c:\\users\\kja11\\anaconda3\\lib\\site-packages (from scanpy) (0.5.3)\n",
      "Requirement already satisfied: seaborn in c:\\users\\kja11\\anaconda3\\lib\\site-packages (from scanpy) (0.12.2)\n",
      "Requirement already satisfied: numpy>=1.17.0 in c:\\users\\kja11\\anaconda3\\lib\\site-packages (from scanpy) (1.23.5)\n",
      "Requirement already satisfied: patsy in c:\\users\\kja11\\anaconda3\\lib\\site-packages (from scanpy) (0.5.3)\n",
      "Requirement already satisfied: session-info in c:\\users\\kja11\\anaconda3\\lib\\site-packages (from scanpy) (1.0.0)\n",
      "Requirement already satisfied: joblib in c:\\users\\kja11\\anaconda3\\lib\\site-packages (from scanpy) (1.1.1)\n",
      "Requirement already satisfied: packaging in c:\\users\\kja11\\anaconda3\\lib\\site-packages (from scanpy) (22.0)\n",
      "Requirement already satisfied: h5py>=3 in c:\\users\\kja11\\anaconda3\\lib\\site-packages (from scanpy) (3.7.0)\n",
      "Requirement already satisfied: tqdm in c:\\users\\kja11\\anaconda3\\lib\\site-packages (from scanpy) (4.64.1)\n",
      "Requirement already satisfied: scikit-learn>=0.22 in c:\\users\\kja11\\anaconda3\\lib\\site-packages (from scanpy) (1.0.2)\n",
      "Requirement already satisfied: natsort in c:\\users\\kja11\\anaconda3\\lib\\site-packages (from scanpy) (8.2.0)\n",
      "Requirement already satisfied: pandas>=1.0 in c:\\users\\kja11\\appdata\\roaming\\python\\python38\\site-packages (from scanpy) (1.5.3)\n",
      "Requirement already satisfied: networkx>=2.3 in c:\\users\\kja11\\anaconda3\\lib\\site-packages (from scanpy) (2.8.4)\n",
      "Requirement already satisfied: numba>=0.41.0 in c:\\users\\kja11\\anaconda3\\lib\\site-packages (from scanpy) (0.56.4)\n",
      "Requirement already satisfied: statsmodels>=0.10.0rc2 in c:\\users\\kja11\\anaconda3\\lib\\site-packages (from scanpy) (0.13.5)\n",
      "Requirement already satisfied: scipy>=1.4 in c:\\users\\kja11\\appdata\\roaming\\python\\python38\\site-packages (from scanpy) (1.10.0)\n",
      "Requirement already satisfied: matplotlib>=3.4 in c:\\users\\kja11\\anaconda3\\lib\\site-packages (from scanpy) (3.6.2)\n",
      "Requirement already satisfied: anndata>=0.7.4 in c:\\users\\kja11\\anaconda3\\lib\\site-packages (from scanpy) (0.8.0)\n",
      "Requirement already satisfied: kiwisolver>=1.0.1 in c:\\users\\kja11\\anaconda3\\lib\\site-packages (from matplotlib>=3.4->scanpy) (1.4.4)\n",
      "Requirement already satisfied: pyparsing>=2.2.1 in c:\\users\\kja11\\anaconda3\\lib\\site-packages (from matplotlib>=3.4->scanpy) (3.0.9)\n",
      "Requirement already satisfied: contourpy>=1.0.1 in c:\\users\\kja11\\anaconda3\\lib\\site-packages (from matplotlib>=3.4->scanpy) (1.0.6)\n",
      "Requirement already satisfied: python-dateutil>=2.7 in c:\\users\\kja11\\anaconda3\\lib\\site-packages (from matplotlib>=3.4->scanpy) (2.8.2)\n",
      "Requirement already satisfied: pillow>=6.2.0 in c:\\users\\kja11\\anaconda3\\lib\\site-packages (from matplotlib>=3.4->scanpy) (9.3.0)\n",
      "Requirement already satisfied: cycler>=0.10 in c:\\users\\kja11\\anaconda3\\lib\\site-packages (from matplotlib>=3.4->scanpy) (0.11.0)\n",
      "Requirement already satisfied: fonttools>=4.22.0 in c:\\users\\kja11\\anaconda3\\lib\\site-packages (from matplotlib>=3.4->scanpy) (4.38.0)\n",
      "Requirement already satisfied: llvmlite<0.40,>=0.39.0dev0 in c:\\users\\kja11\\anaconda3\\lib\\site-packages (from numba>=0.41.0->scanpy) (0.39.1)\n",
      "Requirement already satisfied: importlib-metadata in c:\\users\\kja11\\anaconda3\\lib\\site-packages (from numba>=0.41.0->scanpy) (4.11.3)\n",
      "Requirement already satisfied: setuptools in c:\\users\\kja11\\anaconda3\\lib\\site-packages (from numba>=0.41.0->scanpy) (65.6.3)\n",
      "Requirement already satisfied: pytz>=2020.1 in c:\\users\\kja11\\anaconda3\\lib\\site-packages (from pandas>=1.0->scanpy) (2022.7)\n",
      "Requirement already satisfied: threadpoolctl>=2.0.0 in c:\\users\\kja11\\anaconda3\\lib\\site-packages (from scikit-learn>=0.22->scanpy) (2.2.0)\n",
      "Requirement already satisfied: six in c:\\users\\kja11\\anaconda3\\lib\\site-packages (from patsy->scanpy) (1.16.0)\n",
      "Requirement already satisfied: pynndescent>=0.5 in c:\\users\\kja11\\anaconda3\\lib\\site-packages (from umap-learn>=0.3.10->scanpy) (0.5.8)\n",
      "Requirement already satisfied: stdlib-list in c:\\users\\kja11\\anaconda3\\lib\\site-packages (from session-info->scanpy) (0.8.0)\n",
      "Requirement already satisfied: colorama in c:\\users\\kja11\\anaconda3\\lib\\site-packages (from tqdm->scanpy) (0.4.6)\n",
      "Requirement already satisfied: zipp>=0.5 in c:\\users\\kja11\\anaconda3\\lib\\site-packages (from importlib-metadata->numba>=0.41.0->scanpy) (3.11.0)\n"
     ]
    }
   ],
   "source": [
    "!pip install scanpy --user"
   ]
  },
  {
   "cell_type": "code",
   "execution_count": 15,
   "metadata": {},
   "outputs": [
    {
     "name": "stdout",
     "output_type": "stream",
     "text": [
      "User Current Version:- 3.8.16 (default, Jan 17 2023, 22:25:28) [MSC v.1916 64 bit (AMD64)]\n"
     ]
    }
   ],
   "source": [
    "import sys\n",
    " \n",
    " \n",
    "print(\"User Current Version:-\", sys.version)"
   ]
  },
  {
   "cell_type": "code",
   "execution_count": 11,
   "metadata": {},
   "outputs": [
    {
     "ename": "ImportError",
     "evalue": "DLL load failed while importing defs: The specified procedure could not be found.",
     "output_type": "error",
     "traceback": [
      "\u001b[1;31m---------------------------------------------------------------------------\u001b[0m",
      "\u001b[1;31mImportError\u001b[0m                               Traceback (most recent call last)",
      "\u001b[1;32m~\\AppData\\Local\\Temp\\ipykernel_18612\\2820844625.py\u001b[0m in \u001b[0;36m<module>\u001b[1;34m\u001b[0m\n\u001b[1;32m----> 1\u001b[1;33m \u001b[1;32mimport\u001b[0m \u001b[0mscanpy\u001b[0m\u001b[1;33m\u001b[0m\u001b[1;33m\u001b[0m\u001b[0m\n\u001b[0m",
      "\u001b[1;32m~\\anaconda3\\lib\\site-packages\\scanpy\\__init__.py\u001b[0m in \u001b[0;36m<module>\u001b[1;34m\u001b[0m\n\u001b[0;32m      4\u001b[0m \u001b[1;33m\u001b[0m\u001b[0m\n\u001b[0;32m      5\u001b[0m \u001b[1;32mif\u001b[0m \u001b[1;32mnot\u001b[0m \u001b[0mwithin_flit\u001b[0m\u001b[1;33m(\u001b[0m\u001b[1;33m)\u001b[0m\u001b[1;33m:\u001b[0m  \u001b[1;31m# see function docstring on why this is there\u001b[0m\u001b[1;33m\u001b[0m\u001b[1;33m\u001b[0m\u001b[0m\n\u001b[1;32m----> 6\u001b[1;33m     \u001b[1;32mfrom\u001b[0m \u001b[1;33m.\u001b[0m\u001b[0m_utils\u001b[0m \u001b[1;32mimport\u001b[0m \u001b[0mcheck_versions\u001b[0m\u001b[1;33m\u001b[0m\u001b[1;33m\u001b[0m\u001b[0m\n\u001b[0m\u001b[0;32m      7\u001b[0m \u001b[1;33m\u001b[0m\u001b[0m\n\u001b[0;32m      8\u001b[0m     \u001b[0mcheck_versions\u001b[0m\u001b[1;33m(\u001b[0m\u001b[1;33m)\u001b[0m\u001b[1;33m\u001b[0m\u001b[1;33m\u001b[0m\u001b[0m\n",
      "\u001b[1;32m~\\anaconda3\\lib\\site-packages\\scanpy\\_utils\\__init__.py\u001b[0m in \u001b[0;36m<module>\u001b[1;34m\u001b[0m\n\u001b[0;32m     19\u001b[0m \u001b[1;32mfrom\u001b[0m \u001b[0mnumpy\u001b[0m \u001b[1;32mimport\u001b[0m \u001b[0mrandom\u001b[0m\u001b[1;33m\u001b[0m\u001b[1;33m\u001b[0m\u001b[0m\n\u001b[0;32m     20\u001b[0m \u001b[1;32mfrom\u001b[0m \u001b[0mscipy\u001b[0m \u001b[1;32mimport\u001b[0m \u001b[0msparse\u001b[0m\u001b[1;33m\u001b[0m\u001b[1;33m\u001b[0m\u001b[0m\n\u001b[1;32m---> 21\u001b[1;33m \u001b[1;32mfrom\u001b[0m \u001b[0manndata\u001b[0m \u001b[1;32mimport\u001b[0m \u001b[0mAnnData\u001b[0m\u001b[1;33m,\u001b[0m \u001b[0m__version__\u001b[0m \u001b[1;32mas\u001b[0m \u001b[0manndata_version\u001b[0m\u001b[1;33m\u001b[0m\u001b[1;33m\u001b[0m\u001b[0m\n\u001b[0m\u001b[0;32m     22\u001b[0m \u001b[1;32mfrom\u001b[0m \u001b[0mtextwrap\u001b[0m \u001b[1;32mimport\u001b[0m \u001b[0mdedent\u001b[0m\u001b[1;33m\u001b[0m\u001b[1;33m\u001b[0m\u001b[0m\n\u001b[0;32m     23\u001b[0m \u001b[1;32mfrom\u001b[0m \u001b[0mpackaging\u001b[0m \u001b[1;32mimport\u001b[0m \u001b[0mversion\u001b[0m\u001b[1;33m\u001b[0m\u001b[1;33m\u001b[0m\u001b[0m\n",
      "\u001b[1;32m~\\anaconda3\\lib\\site-packages\\anndata\\__init__.py\u001b[0m in \u001b[0;36m<module>\u001b[1;34m\u001b[0m\n\u001b[0;32m      5\u001b[0m \u001b[1;32mif\u001b[0m \u001b[1;32mnot\u001b[0m \u001b[0mwithin_flit\u001b[0m\u001b[1;33m(\u001b[0m\u001b[1;33m)\u001b[0m\u001b[1;33m:\u001b[0m\u001b[1;33m\u001b[0m\u001b[1;33m\u001b[0m\u001b[0m\n\u001b[0;32m      6\u001b[0m     \u001b[1;32mdel\u001b[0m \u001b[0mwithin_flit\u001b[0m\u001b[1;33m\u001b[0m\u001b[1;33m\u001b[0m\u001b[0m\n\u001b[1;32m----> 7\u001b[1;33m     \u001b[1;32mfrom\u001b[0m \u001b[1;33m.\u001b[0m\u001b[0m_core\u001b[0m\u001b[1;33m.\u001b[0m\u001b[0manndata\u001b[0m \u001b[1;32mimport\u001b[0m \u001b[0mAnnData\u001b[0m\u001b[1;33m\u001b[0m\u001b[1;33m\u001b[0m\u001b[0m\n\u001b[0m\u001b[0;32m      8\u001b[0m     \u001b[1;32mfrom\u001b[0m \u001b[1;33m.\u001b[0m\u001b[0m_core\u001b[0m\u001b[1;33m.\u001b[0m\u001b[0mmerge\u001b[0m \u001b[1;32mimport\u001b[0m \u001b[0mconcat\u001b[0m\u001b[1;33m\u001b[0m\u001b[1;33m\u001b[0m\u001b[0m\n\u001b[0;32m      9\u001b[0m     \u001b[1;32mfrom\u001b[0m \u001b[1;33m.\u001b[0m\u001b[0m_core\u001b[0m\u001b[1;33m.\u001b[0m\u001b[0mraw\u001b[0m \u001b[1;32mimport\u001b[0m \u001b[0mRaw\u001b[0m\u001b[1;33m\u001b[0m\u001b[1;33m\u001b[0m\u001b[0m\n",
      "\u001b[1;32m~\\anaconda3\\lib\\site-packages\\anndata\\_core\\anndata.py\u001b[0m in \u001b[0;36m<module>\u001b[1;34m\u001b[0m\n\u001b[0;32m     15\u001b[0m \u001b[1;32mfrom\u001b[0m \u001b[0mtyping\u001b[0m \u001b[1;32mimport\u001b[0m \u001b[0mTuple\u001b[0m\u001b[1;33m,\u001b[0m \u001b[0mList\u001b[0m  \u001b[1;31m# Generic\u001b[0m\u001b[1;33m\u001b[0m\u001b[1;33m\u001b[0m\u001b[0m\n\u001b[0;32m     16\u001b[0m \u001b[1;33m\u001b[0m\u001b[0m\n\u001b[1;32m---> 17\u001b[1;33m \u001b[1;32mimport\u001b[0m \u001b[0mh5py\u001b[0m\u001b[1;33m\u001b[0m\u001b[1;33m\u001b[0m\u001b[0m\n\u001b[0m\u001b[0;32m     18\u001b[0m \u001b[1;32mfrom\u001b[0m \u001b[0mnatsort\u001b[0m \u001b[1;32mimport\u001b[0m \u001b[0mnatsorted\u001b[0m\u001b[1;33m\u001b[0m\u001b[1;33m\u001b[0m\u001b[0m\n\u001b[0;32m     19\u001b[0m \u001b[1;32mimport\u001b[0m \u001b[0mnumpy\u001b[0m \u001b[1;32mas\u001b[0m \u001b[0mnp\u001b[0m\u001b[1;33m\u001b[0m\u001b[1;33m\u001b[0m\u001b[0m\n",
      "\u001b[1;32m~\\anaconda3\\lib\\site-packages\\h5py\\__init__.py\u001b[0m in \u001b[0;36m<module>\u001b[1;34m\u001b[0m\n\u001b[0;32m     31\u001b[0m         \u001b[1;32mraise\u001b[0m\u001b[1;33m\u001b[0m\u001b[1;33m\u001b[0m\u001b[0m\n\u001b[0;32m     32\u001b[0m \u001b[1;33m\u001b[0m\u001b[0m\n\u001b[1;32m---> 33\u001b[1;33m \u001b[1;32mfrom\u001b[0m \u001b[1;33m.\u001b[0m \u001b[1;32mimport\u001b[0m \u001b[0mversion\u001b[0m\u001b[1;33m\u001b[0m\u001b[1;33m\u001b[0m\u001b[0m\n\u001b[0m\u001b[0;32m     34\u001b[0m \u001b[1;33m\u001b[0m\u001b[0m\n\u001b[0;32m     35\u001b[0m \u001b[1;32mif\u001b[0m \u001b[0mversion\u001b[0m\u001b[1;33m.\u001b[0m\u001b[0mhdf5_version_tuple\u001b[0m \u001b[1;33m!=\u001b[0m \u001b[0mversion\u001b[0m\u001b[1;33m.\u001b[0m\u001b[0mhdf5_built_version_tuple\u001b[0m\u001b[1;33m:\u001b[0m\u001b[1;33m\u001b[0m\u001b[1;33m\u001b[0m\u001b[0m\n",
      "\u001b[1;32m~\\anaconda3\\lib\\site-packages\\h5py\\version.py\u001b[0m in \u001b[0;36m<module>\u001b[1;34m\u001b[0m\n\u001b[0;32m     13\u001b[0m \u001b[1;33m\u001b[0m\u001b[0m\n\u001b[0;32m     14\u001b[0m \u001b[1;32mfrom\u001b[0m \u001b[0mcollections\u001b[0m \u001b[1;32mimport\u001b[0m \u001b[0mnamedtuple\u001b[0m\u001b[1;33m\u001b[0m\u001b[1;33m\u001b[0m\u001b[0m\n\u001b[1;32m---> 15\u001b[1;33m \u001b[1;32mfrom\u001b[0m \u001b[1;33m.\u001b[0m \u001b[1;32mimport\u001b[0m \u001b[0mh5\u001b[0m \u001b[1;32mas\u001b[0m \u001b[0m_h5\u001b[0m\u001b[1;33m\u001b[0m\u001b[1;33m\u001b[0m\u001b[0m\n\u001b[0m\u001b[0;32m     16\u001b[0m \u001b[1;32mimport\u001b[0m \u001b[0msys\u001b[0m\u001b[1;33m\u001b[0m\u001b[1;33m\u001b[0m\u001b[0m\n\u001b[0;32m     17\u001b[0m \u001b[1;32mimport\u001b[0m \u001b[0mnumpy\u001b[0m\u001b[1;33m\u001b[0m\u001b[1;33m\u001b[0m\u001b[0m\n",
      "\u001b[1;32mh5py\\h5.pyx\u001b[0m in \u001b[0;36minit h5py.h5\u001b[1;34m()\u001b[0m\n",
      "\u001b[1;31mImportError\u001b[0m: DLL load failed while importing defs: The specified procedure could not be found."
     ]
    }
   ],
   "source": [
    "import scanpy"
   ]
  },
  {
   "cell_type": "code",
   "execution_count": 4,
   "metadata": {},
   "outputs": [],
   "source": [
    "input_file_directory = '/Users/kja11/OneDrive - Háskóli Íslands/PhD ATG7//0 in_silico/Python/1)data_input/'\n",
    "output_file_directory = '/Users/kja11/OneDrive - Háskóli Íslands/PhD ATG7/0 in_silico/Python/3)output/'"
   ]
  },
  {
   "cell_type": "code",
   "execution_count": 5,
   "metadata": {},
   "outputs": [],
   "source": [
    "matplotlib.rcParams.update({'font.size':20, 'xtick.labelsize':20, 'ytick.labelsize':20, \n",
    "                            'axes.grid' : True, 'grid.alpha': 0.5, 'grid.linestyle' : ':',\n",
    "                            'figure.figsize':(8, 5), 'svg.fonttype' : 'none'})"
   ]
  },
  {
   "cell_type": "code",
   "execution_count": 6,
   "metadata": {},
   "outputs": [
    {
     "ename": "NameError",
     "evalue": "name 'scanpy' is not defined",
     "output_type": "error",
     "traceback": [
      "\u001b[1;31m---------------------------------------------------------------------------\u001b[0m",
      "\u001b[1;31mNameError\u001b[0m                                 Traceback (most recent call last)",
      "\u001b[1;32m~\\AppData\\Local\\Temp\\ipykernel_18612\\1357548487.py\u001b[0m in \u001b[0;36m<module>\u001b[1;34m\u001b[0m\n\u001b[1;32m----> 1\u001b[1;33m \u001b[0mscanpy\u001b[0m\u001b[1;33m.\u001b[0m\u001b[0mset_figure_params\u001b[0m\u001b[1;33m(\u001b[0m\u001b[0mfontsize\u001b[0m\u001b[1;33m=\u001b[0m\u001b[1;36m20\u001b[0m\u001b[1;33m,\u001b[0m \u001b[0mfigsize\u001b[0m\u001b[1;33m=\u001b[0m\u001b[1;33m(\u001b[0m\u001b[1;36m8\u001b[0m\u001b[1;33m,\u001b[0m \u001b[1;36m5\u001b[0m\u001b[1;33m)\u001b[0m\u001b[1;33m,\u001b[0m \u001b[0mformat\u001b[0m\u001b[1;33m=\u001b[0m\u001b[1;34m'tiff'\u001b[0m\u001b[1;33m)\u001b[0m\u001b[1;33m\u001b[0m\u001b[1;33m\u001b[0m\u001b[0m\n\u001b[0m",
      "\u001b[1;31mNameError\u001b[0m: name 'scanpy' is not defined"
     ]
    }
   ],
   "source": [
    "scanpy.set_figure_params(fontsize=20, figsize=(8, 5), format='tiff')"
   ]
  },
  {
   "cell_type": "code",
   "execution_count": null,
   "metadata": {},
   "outputs": [],
   "source": [
    "# from http://godsnotwheregodsnot.blogspot.de/2012/09/color-distribution-methodology.html\n",
    "# from https://github.com/scverse/scanpy/blob/master/scanpy/plotting/palettes.py\n",
    "godsnot_102 = [# \"#000000\",  # remove the black, as often, we have black colored annotation\n",
    "                \"#FFFF00\",\"#1CE6FF\",\"#FF34FF\",\"#FF4A46\",\"#008941\",\"#006FA6\",\"#A30059\",\"#FFDBE5\",\n",
    "                \"#7A4900\",\"#0000A6\",\"#63FFAC\",\"#B79762\",\"#004D43\",\"#8FB0FF\",\"#997D87\",\"#5A0007\",\n",
    "                \"#809693\",\"#6A3A4C\",\"#1B4400\",\"#4FC601\",\"#3B5DFF\",\"#4A3B53\",\"#FF2F80\",\"#61615A\",\n",
    "                \"#BA0900\",\"#6B7900\",\"#00C2A0\",\"#FFAA92\",\"#FF90C9\",\"#B903AA\",\"#D16100\",\"#DDEFFF\",\n",
    "                \"#000035\",\"#7B4F4B\",\"#A1C299\",\"#300018\",\"#0AA6D8\",\"#013349\",\"#00846F\",\"#372101\",\n",
    "                \"#FFB500\",\"#C2FFED\",\"#A079BF\",\"#CC0744\",\"#C0B9B2\",\"#C2FF99\",\"#001E09\",\"#00489C\",\n",
    "                \"#6F0062\",\"#0CBD66\",\"#EEC3FF\",\"#456D75\",\"#B77B68\",\"#7A87A1\",\"#788D66\",\"#885578\",\n",
    "                \"#FAD09F\",\"#FF8A9A\",\"#D157A0\",\"#BEC459\",\"#456648\",\"#0086ED\",\"#886F4C\",\"#34362D\",\n",
    "                \"#B4A8BD\",\"#00A6AA\",\"#452C2C\",\"#636375\",\"#A3C8C9\",\"#FF913F\",\"#938A81\",\"#575329\",\n",
    "                \"#00FECF\",\"#B05B6F\",\"#8CD0FF\",\"#3B9700\",\"#04F757\",\"#C8A1A1\",\"#1E6E00\",\"#7900D7\",\n",
    "                \"#A77500\",\"#6367A9\",\"#A05837\",\"#6B002C\",\"#772600\",\"#D790FF\",\"#9B9700\",\"#549E79\",\n",
    "                \"#FFF69F\",\"#201625\",\"#72418F\",\"#BC23FF\",\"#99ADC0\",\"#3A2465\",\"#922329\",\"#5B4534\",\n",
    "                \"#FDE8DC\",\"#404E55\",\"#0089A3\",\"#CB7E98\",\"#A4E804\",\"#324E72\"]\n",
    "x = godsnot_102 + godsnot_102\n",
    "two_hundred_colors = x[:200]\n",
    "print(len(two_hundred_colors))"
   ]
  },
  {
   "cell_type": "code",
   "execution_count": null,
   "metadata": {},
   "outputs": [],
   "source": [
    "iso1 = 'ENST00000354449.7'\n",
    "iso2 = 'ENST00000354956.9'"
   ]
  },
  {
   "cell_type": "code",
   "execution_count": null,
   "metadata": {},
   "outputs": [],
   "source": [
    "%%time\n",
    "#Open the big expression data with all the transcripts\n",
    "path = output_file_directory + \"/dataframes_for_input/all_transcripts_zscore.tsv\"\n",
    "adata  = scanpy.read_csv(path, delimiter='\\t')\n",
    "\n",
    "print(adata.shape)"
   ]
  },
  {
   "cell_type": "markdown",
   "metadata": {},
   "source": [
    "# PCA"
   ]
  },
  {
   "cell_type": "code",
   "execution_count": null,
   "metadata": {},
   "outputs": [],
   "source": [
    "path2  = output_file_directory + 'ATG7/TCGA_GTEX/transcripts/'"
   ]
  },
  {
   "cell_type": "code",
   "execution_count": null,
   "metadata": {},
   "outputs": [],
   "source": [
    "%%time\n",
    "\n",
    "nei = 5\n",
    "dist = 0.2\n",
    "spre = 10\n",
    "scanpy.pp.neighbors(adata, n_neighbors=nei, n_pcs=100)\n",
    "scanpy.tl.leiden(adata)\n",
    "scanpy.tl.paga(adata)\n",
    "scanpy.pl.paga(adata, plot=False)\n",
    "scanpy.tl.umap(adata, min_dist=dist, spread=spre, init_pos='paga')      \n",
    "scanpy.pl.umap(adata, color='leiden', palette=two_hundred_colors, legend_loc=None, save='_all')"
   ]
  },
  {
   "cell_type": "markdown",
   "metadata": {},
   "source": [
    "# umap and leiden"
   ]
  },
  {
   "cell_type": "code",
   "execution_count": null,
   "metadata": {},
   "outputs": [],
   "source": [
    "%%time\n",
    "# neis 5, spre 10 and then explore multiple values\n",
    "neis = [5]\n",
    "dists = [0.2]\n",
    "spres = [10]\n",
    "\n",
    "for nei in neis:\n",
    "    for dist in dists:\n",
    "        for spre in spres:\n",
    "            # initial exploration\n",
    "            scanpy.pp.neighbors(adata, n_neighbors=nei, n_pcs=100)\n",
    "            scanpy.tl.leiden(adata)\n",
    "            scanpy.tl.paga(adata)\n",
    "            scanpy.pl.paga(adata, plot=False)\n",
    "            scanpy.tl.umap(adata, min_dist=dist, spread=spre, init_pos='paga')         \n",
    "            \n",
    "            # dealing with colors\n",
    "            umap0 = adata.obsm['X_umap'][:, 0]\n",
    "            umap1 = adata.obsm['X_umap'][:, 1]\n",
    "\n",
    "            group1x = []; group1y = []\n",
    "            group2x = []; group2y = []\n",
    "            othersx = []; othersy = []\n",
    "\n",
    "            for i in range(len(adata.obs.index)):\n",
    "\n",
    "                transcript = adata.obs.index[i]\n",
    "                label = adata.obs.loc[transcript, 'leiden']\n",
    "                x = adata.obsm['X_umap'][i, 0] \n",
    "                y = adata.obsm['X_umap'][i, 1]\n",
    "\n",
    "                if label == adata.obs.loc[iso1, 'leiden']:\n",
    "                    group1x.append(x); group1y.append(y)\n",
    "                elif label == adata.obs.loc[iso2, 'leiden']:\n",
    "                    group2x.append(x); group2y.append(y)\n",
    "                else:\n",
    "                    othersx.append(x); othersy.append(y)\n",
    "\n",
    "            matplotlib.pyplot.scatter(group1x, group1y, s=10, c='skyblue', alpha=0.1, edgecolors='none')\n",
    "            matplotlib.pyplot.scatter(group2x, group2y, s=10, c='gold', alpha=0.1, edgecolors='none')\n",
    "            matplotlib.pyplot.scatter(othersx, othersy, s=5, c='gray', alpha=0.01, edgecolors='none')\n",
    "\n",
    "            # location of iso1 and iso2\n",
    "            position1 = adata.obsm['X_umap'][adata.obs.index.get_loc(iso1), :]\n",
    "            position2 = adata.obsm['X_umap'][adata.obs.index.get_loc(iso2), :]\n",
    "            matplotlib.pyplot.scatter(position1[0], position1[1], s=50, c='skyblue', edgecolors='black', marker='*')\n",
    "            matplotlib.pyplot.scatter(position2[0], position2[1], s=50, c='gold', marker='*', edgecolors='black')\n",
    "\n",
    "            matplotlib.pyplot.title('n{} d{} s{}'.format(nei, dist, spre))\n",
    "            matplotlib.pyplot.xlabel('UMAP1')\n",
    "            matplotlib.pyplot.ylabel('UMAP2')\n",
    "            matplotlib.pyplot.xticks([])\n",
    "            matplotlib.pyplot.yticks([])\n",
    "            matplotlib.pyplot.savefig(path2+'umap_iso1_2.tiff')\n",
    "            matplotlib.pyplot.show()"
   ]
  }
 ],
 "metadata": {
  "kernelspec": {
   "display_name": "Python 3 (ipykernel)",
   "language": "python",
   "name": "python3"
  },
  "language_info": {
   "codemirror_mode": {
    "name": "ipython",
    "version": 3
   },
   "file_extension": ".py",
   "mimetype": "text/x-python",
   "name": "python",
   "nbconvert_exporter": "python",
   "pygments_lexer": "ipython3",
   "version": "3.8.16"
  }
 },
 "nbformat": 4,
 "nbformat_minor": 4
}
