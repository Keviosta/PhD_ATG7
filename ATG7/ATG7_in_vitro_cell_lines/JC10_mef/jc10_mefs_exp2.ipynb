{
 "cells": [
  {
   "cell_type": "code",
   "execution_count": 1,
   "metadata": {},
   "outputs": [],
   "source": [
    "import pandas, numpy, seaborn\n",
    "import scipy, scipy.stats\n",
    "import matplotlib, matplotlib.pyplot as plt"
   ]
  },
  {
   "cell_type": "code",
   "execution_count": 15,
   "metadata": {},
   "outputs": [],
   "source": [
    "matplotlib.rcParams.update({'font.size':20, 'xtick.labelsize':20, 'ytick.labelsize':20, \n",
    "                            'axes.grid' : True, 'grid.alpha': 0.5, 'grid.linestyle' : ':',\n",
    "                            'figure.figsize':(12, 8), 'svg.fonttype' : 'none'})"
   ]
  },
  {
   "cell_type": "code",
   "execution_count": 3,
   "metadata": {},
   "outputs": [],
   "source": [
    "input_file_directory = '/Users/kja11/OneDrive - Háskóli Íslands/PhD ATG7/0 in_silico/Python/1)data_input/'\n",
    "output_file_directory = '/Users/kja11/OneDrive - Háskóli Íslands/PhD ATG7/0 in_silico/Python/3)output/'"
   ]
  },
  {
   "cell_type": "code",
   "execution_count": 4,
   "metadata": {},
   "outputs": [
    {
     "name": "stdout",
     "output_type": "stream",
     "text": [
      "             A1      A2      A3      A4      A5      A6      A7     A8     A9\n",
      "Measure                                                                      \n",
      "1        16.611  16.176  14.769  16.281  16.106  16.575  14.472  2.399  2.216\n",
      "2        14.164  14.169  13.497  14.256  14.179  13.786  13.868  1.237  1.174\n",
      "3        11.725  10.888  11.550  11.208  11.474  11.740  11.800  1.090  0.981\n",
      "4        17.325  15.952  14.640  15.922  15.817  15.817  14.945  2.883  2.500\n",
      "5        15.307  13.909  13.642  14.262  13.670  13.986  13.892  1.120  1.232\n",
      "6        10.972  11.323  11.624  11.592  11.093  11.713  11.650  1.034  0.907\n",
      "7        18.471  18.872  18.981  19.627  19.971  19.368  18.439  3.491  3.371\n",
      "8        14.287  14.400  13.626  13.782  13.477  13.580  13.956  1.541  1.465\n",
      "9        10.838  10.857  10.762  10.841  10.838  10.559  10.857  1.590  1.428             A1     A2     A3     A4     A5     A6     A7      A8      A9\n",
      "Measure                                                                 \n",
      "1        5.308  4.860  4.312  5.256  4.710  5.372  4.895   8.541   6.937\n",
      "2        4.165  3.697  3.738  3.876  3.714  4.132  4.214   3.604   3.341\n",
      "3        4.504  3.784  3.971  3.962  3.538  3.898  3.566   2.845   2.739\n",
      "4        5.338  4.398  4.256  4.970  4.367  5.277  4.764   9.727   8.260\n",
      "5        4.080  3.614  3.623  3.767  3.561  4.023  3.932   3.385   3.219\n",
      "6        3.726  3.635  3.529  3.442  3.407  3.565  3.524   2.583   2.376\n",
      "7        5.797  6.053  5.987  7.158  6.364  7.452  7.454  11.091  10.608\n",
      "8        4.101  3.596  3.479  3.917  3.648  4.145  3.969   4.548   4.570\n",
      "9        7.235  6.956  7.141  6.840  6.358  5.965  5.283   4.342   4.409\n",
      "Wall time: 128 ms\n"
     ]
    }
   ],
   "source": [
    "%%time\n",
    "# DL data ATG7 isoform expression\n",
    "path = input_file_directory + \"/mefs/mef_jc10/exp2\"\n",
    "red_path = '/jc10_red_exp2.csv'\n",
    "green_path = '/jc10_green_exp2.csv'\n",
    "\n",
    "df_aggregates = pandas.read_csv(path+red_path, sep = \";\")\n",
    "df_aggregates.iloc[:,1:] = df_aggregates.iloc[:,1:].apply(lambda x: x.str.replace(',','.'))\n",
    "df_aggregates.set_index('Measure', inplace = True)\n",
    "df_aggregates = df_aggregates.apply(pandas.to_numeric, errors='coerce', axis=1)\n",
    "\n",
    "df_monomeric= pandas.read_csv(path+green_path, sep = \";\")\n",
    "df_monomeric.iloc[:,1:] = df_monomeric.iloc[:,1:].apply(lambda x: x.str.replace(',','.'))\n",
    "df_monomeric.set_index('Measure', inplace = True)\n",
    "df_monomeric = df_monomeric.apply(pandas.to_numeric, errors='coerce', axis=1)\n",
    "\n",
    "print(df_aggregates.iloc[:,:9],\n",
    "      df_monomeric.iloc[:,:9])"
   ]
  },
  {
   "cell_type": "code",
   "execution_count": 5,
   "metadata": {},
   "outputs": [
    {
     "name": "stdout",
     "output_type": "stream",
     "text": [
      "            WT MEF    ATG7-/-  ATG7-/- +dox condition\n",
      "Measure                                              \n",
      "E        16.218556  14.966778     14.945667      DMEM\n",
      "F        15.937222  14.214667     15.384333      DMEM\n",
      "G        15.825000  14.391333     15.758222      DMEM\n",
      "H        16.400222  15.970667     17.631111      DMEM            WT MEF   ATG7-/-  ATG7-/- +dox condition\n",
      "Measure                                            \n",
      "E        5.553778  4.320667      4.439778      DMEM\n",
      "F        5.736778  4.208444      4.477333      DMEM\n",
      "G        5.779667  5.160667      4.772444      DMEM\n",
      "H        6.566444  6.274889      6.001667      DMEM\n"
     ]
    }
   ],
   "source": [
    "# CONTROL\n",
    "data = ['E','F','G','H']\n",
    "condition_media = 'DMEM'\n",
    "df_control_RedGreen = []\n",
    "\n",
    "dfs = [df_aggregates, df_monomeric]\n",
    "for df in dfs:\n",
    "    df_list = []\n",
    "    for letter in data:\n",
    "        #select by letter + the good wells\n",
    "        df_select = df.loc[:, df.columns.str.startswith(letter)]\n",
    "        df_select = df_select.iloc[:, 0:3]\n",
    "        df_select.columns = \"WT MEF\", \"ATG7-/-\", \"ATG7-/- +dox\"\n",
    "        #add mean value and save the data in a list\n",
    "        df_select.loc[letter] = df_select.mean()\n",
    "        df_select['condition'] = condition_media\n",
    "        mean_values = df_select.iloc[9:,:]\n",
    "        df_list.append(mean_values)\n",
    "\n",
    "    df_control = pandas.concat([df_list[0], df_list[1], df_list[2], df_list[3]], axis=0)\n",
    "    df_control_RedGreen.append(df_control)\n",
    "\n",
    "print(df_control_RedGreen[0], df_control_RedGreen[1] )"
   ]
  },
  {
   "cell_type": "code",
   "execution_count": 6,
   "metadata": {},
   "outputs": [
    {
     "name": "stdout",
     "output_type": "stream",
     "text": [
      "            WT MEF    ATG7-/-  ATG7-/- +dox    ATG7(1)    dVSR(1)    ATG7(2)\n",
      "Measure                                                                     \n",
      "A        14.411111  14.060667     13.676778  14.196778  14.069444  14.124889\n",
      "B        14.933222  13.613667     13.871222  13.708778  13.666222  14.003333\n",
      "C        14.488778  13.704333     13.801778  13.921778  13.779667  13.756222\n",
      "D        15.265222  13.904222     14.070889  14.488778  14.071000  14.257778            WT MEF   ATG7-/-  ATG7-/- +dox   ATG7(1)\n",
      "Measure                                            \n",
      "A        4.917111  4.510333      4.448444  4.798667\n",
      "B        4.820000  4.658111      4.871333  4.526889\n",
      "C        4.311111  4.588000      4.400444  4.494556\n",
      "D        4.602333  4.712778      4.386778  5.083667\n"
     ]
    }
   ],
   "source": [
    "# DMSO\n",
    "data = ['A','B','C','D']\n",
    "condition_media = 'DMSO+FCCP'\n",
    "df_dmso_RedGreen = []\n",
    "\n",
    "dfs = [df_aggregates, df_monomeric]\n",
    "for df in dfs:\n",
    "    df_list = []\n",
    "    for letter in data:\n",
    "        #select by letter + the good wells\n",
    "        df_select = df.loc[:, df.columns.str.startswith(letter)]\n",
    "        df_select = df_select.iloc[:, 0:7]\n",
    "        df_select.columns = \"WT MEF\", \"ATG7-/-\", \"ATG7-/- +dox\", \"ATG7(1)\", \"dVSR(1)\", \"ATG7(2)\", \"dVSR(2)\"\n",
    "        df_select.loc[letter] = df_select.mean()\n",
    "        df_select['condition'] = condition_media\n",
    "        mean_values = df_select.iloc[9:,:]\n",
    "        df_list.append(mean_values)\n",
    "\n",
    "    df_control = pandas.concat([df_list[0], df_list[1], df_list[2], df_list[3]], axis=0)\n",
    "    df_dmso_RedGreen.append(df_control)\n",
    "\n",
    "print(df_dmso_RedGreen[0].iloc[:,:6], df_dmso_RedGreen[1].iloc[:,:4])"
   ]
  },
  {
   "cell_type": "code",
   "execution_count": 7,
   "metadata": {},
   "outputs": [
    {
     "name": "stdout",
     "output_type": "stream",
     "text": [
      "            WT MEF    ATG7-/-  ATG7-/- +dox    ATG7(1)    dVSR(1)    ATG7(2)\n",
      "Measure                                                                     \n",
      "E        14.090222  14.362111     14.399889  14.722556  14.471778  14.561889\n",
      "F        14.543889  14.355667     14.585778  14.722444  14.673000  14.526222\n",
      "G        14.166222  14.454778     14.225222  14.395667  14.445889  14.411667\n",
      "H        15.720222  14.872778     15.394222  15.755889  15.750556  14.995889            WT MEF   ATG7-/-  ATG7-/- +dox   ATG7(1)\n",
      "Measure                                            \n",
      "E        4.816444  4.780667      4.467444  4.736444\n",
      "F        4.696444  4.729000      4.604222  4.726444\n",
      "G        4.814556  5.078556      4.431111  4.626778\n",
      "H        6.251333  5.952778      5.469333  5.930667\n"
     ]
    }
   ],
   "source": [
    "# DMEM + FCCP + BAF\n",
    "data = ['E','F','G','H']\n",
    "condition_media = 'BAF+FCCP'\n",
    "df_baf_RedGreen = []\n",
    "\n",
    "dfs = [df_aggregates, df_monomeric]\n",
    "for df in dfs:\n",
    "    df_list = []\n",
    "    for letter in data:\n",
    "        df_select = df.loc[:, df.columns.str.startswith(letter)]\n",
    "        df_select = df_select.iloc[:, 5:]\n",
    "        df_select.columns = \"WT MEF\", \"ATG7-/-\", \"ATG7-/- +dox\", \"ATG7(1)\", \"dVSR(1)\", \"ATG7(2)\", \"dVSR(2)\"\n",
    "        df_select.loc[letter] = df_select.mean()\n",
    "        df_select['condition'] = condition_media\n",
    "        mean_values = df_select.iloc[9:,:]\n",
    "        df_list.append(mean_values)\n",
    "\n",
    "    df_control = pandas.concat([df_list[0], df_list[1], df_list[2], df_list[3]], axis=0)\n",
    "    df_baf_RedGreen.append(df_control)\n",
    "\n",
    "print(df_baf_RedGreen[0].iloc[:,:6], df_baf_RedGreen[1].iloc[:,:4])"
   ]
  },
  {
   "cell_type": "code",
   "execution_count": 8,
   "metadata": {},
   "outputs": [],
   "source": [
    "# df_control_RedGreen\n",
    "# df_dmso_RedGreen\n",
    "# df_baf_RedGreen"
   ]
  },
  {
   "cell_type": "code",
   "execution_count": 9,
   "metadata": {},
   "outputs": [
    {
     "name": "stdout",
     "output_type": "stream",
     "text": [
      "    condition     WT MEF    ATG7-/-  ATG7-/- +dox    ATG7(1)    dVSR(1)\n",
      "0        DMEM  16.218556  14.966778     14.945667        NaN        NaN\n",
      "1        DMEM  15.937222  14.214667     15.384333        NaN        NaN\n",
      "2        DMEM  15.825000  14.391333     15.758222        NaN        NaN\n",
      "3        DMEM  16.400222  15.970667     17.631111        NaN        NaN\n",
      "4   DMSO+FCCP  14.411111  14.060667     13.676778  14.196778  14.069444\n",
      "5   DMSO+FCCP  14.933222  13.613667     13.871222  13.708778  13.666222\n",
      "6   DMSO+FCCP  14.488778  13.704333     13.801778  13.921778  13.779667\n",
      "7   DMSO+FCCP  15.265222  13.904222     14.070889  14.488778  14.071000\n",
      "8    BAF+FCCP  14.090222  14.362111     14.399889  14.722556  14.471778\n",
      "9    BAF+FCCP  14.543889  14.355667     14.585778  14.722444  14.673000\n",
      "10   BAF+FCCP  14.166222  14.454778     14.225222  14.395667  14.445889\n",
      "11   BAF+FCCP  15.720222  14.872778     15.394222  15.755889  15.750556\n"
     ]
    }
   ],
   "source": [
    "#pull the results for Red (aggregate)\n",
    "df_aggregates = pandas.concat([df_control_RedGreen[0], df_dmso_RedGreen[0],df_baf_RedGreen[0]], axis=0)\n",
    "df_aggregates.reset_index(drop=True, inplace=True)\n",
    "col = df_aggregates.pop(\"condition\")\n",
    "df_aggregates.insert(0, \"condition\", col)\n",
    "print(df_aggregates.iloc[:,:6])"
   ]
  },
  {
   "cell_type": "code",
   "execution_count": 10,
   "metadata": {},
   "outputs": [
    {
     "name": "stdout",
     "output_type": "stream",
     "text": [
      "    condition    WT MEF   ATG7-/-  ATG7-/- +dox   ATG7(1)   dVSR(1)\n",
      "0        DMEM  5.553778  4.320667      4.439778       NaN       NaN\n",
      "1        DMEM  5.736778  4.208444      4.477333       NaN       NaN\n",
      "2        DMEM  5.779667  5.160667      4.772444       NaN       NaN\n",
      "3        DMEM  6.566444  6.274889      6.001667       NaN       NaN\n",
      "4   DMSO+FCCP  4.917111  4.510333      4.448444  4.798667  4.407444\n",
      "5   DMSO+FCCP  4.820000  4.658111      4.871333  4.526889  4.555000\n",
      "6   DMSO+FCCP  4.311111  4.588000      4.400444  4.494556  4.452111\n",
      "7   DMSO+FCCP  4.602333  4.712778      4.386778  5.083667  4.425778\n",
      "8    BAF+FCCP  4.816444  4.780667      4.467444  4.736444  4.519778\n",
      "9    BAF+FCCP  4.696444  4.729000      4.604222  4.726444  4.281000\n",
      "10   BAF+FCCP  4.814556  5.078556      4.431111  4.626778  4.457778\n",
      "11   BAF+FCCP  6.251333  5.952778      5.469333  5.930667  5.745000\n"
     ]
    }
   ],
   "source": [
    "#pull the results for Green (monomeric)\n",
    "df_monomeric = pandas.concat([df_control_RedGreen[1], df_dmso_RedGreen[1],df_baf_RedGreen[1]], axis=0)\n",
    "df_monomeric.reset_index(drop=True, inplace=True)\n",
    "col = df_monomeric.pop(\"condition\")\n",
    "df_monomeric.insert(0, \"condition\", col)\n",
    "print(df_monomeric.iloc[:,:6])"
   ]
  },
  {
   "cell_type": "code",
   "execution_count": 12,
   "metadata": {},
   "outputs": [
    {
     "data": {
      "text/html": [
       "<div>\n",
       "<style scoped>\n",
       "    .dataframe tbody tr th:only-of-type {\n",
       "        vertical-align: middle;\n",
       "    }\n",
       "\n",
       "    .dataframe tbody tr th {\n",
       "        vertical-align: top;\n",
       "    }\n",
       "\n",
       "    .dataframe thead th {\n",
       "        text-align: right;\n",
       "    }\n",
       "</style>\n",
       "<table border=\"1\" class=\"dataframe\">\n",
       "  <thead>\n",
       "    <tr style=\"text-align: right;\">\n",
       "      <th></th>\n",
       "      <th>condition</th>\n",
       "      <th>normal</th>\n",
       "      <th>ev</th>\n",
       "      <th>ev_dox</th>\n",
       "      <th>wt1</th>\n",
       "      <th>vsr1</th>\n",
       "      <th>wt2</th>\n",
       "      <th>vsr2</th>\n",
       "    </tr>\n",
       "  </thead>\n",
       "  <tbody>\n",
       "    <tr>\n",
       "      <th>0</th>\n",
       "      <td>DMEM</td>\n",
       "      <td>0.342434</td>\n",
       "      <td>0.288684</td>\n",
       "      <td>0.297061</td>\n",
       "      <td>NaN</td>\n",
       "      <td>NaN</td>\n",
       "      <td>NaN</td>\n",
       "      <td>NaN</td>\n",
       "    </tr>\n",
       "    <tr>\n",
       "      <th>1</th>\n",
       "      <td>DMEM</td>\n",
       "      <td>0.359961</td>\n",
       "      <td>0.296064</td>\n",
       "      <td>0.291032</td>\n",
       "      <td>NaN</td>\n",
       "      <td>NaN</td>\n",
       "      <td>NaN</td>\n",
       "      <td>NaN</td>\n",
       "    </tr>\n",
       "    <tr>\n",
       "      <th>2</th>\n",
       "      <td>DMEM</td>\n",
       "      <td>0.365224</td>\n",
       "      <td>0.358595</td>\n",
       "      <td>0.302854</td>\n",
       "      <td>NaN</td>\n",
       "      <td>NaN</td>\n",
       "      <td>NaN</td>\n",
       "      <td>NaN</td>\n",
       "    </tr>\n",
       "    <tr>\n",
       "      <th>3</th>\n",
       "      <td>DMEM</td>\n",
       "      <td>0.400388</td>\n",
       "      <td>0.392901</td>\n",
       "      <td>0.340402</td>\n",
       "      <td>NaN</td>\n",
       "      <td>NaN</td>\n",
       "      <td>NaN</td>\n",
       "      <td>NaN</td>\n",
       "    </tr>\n",
       "    <tr>\n",
       "      <th>4</th>\n",
       "      <td>DMSO+FCCP</td>\n",
       "      <td>0.341203</td>\n",
       "      <td>0.320777</td>\n",
       "      <td>0.325255</td>\n",
       "      <td>0.338011</td>\n",
       "      <td>0.313264</td>\n",
       "      <td>0.344774</td>\n",
       "      <td>0.335820</td>\n",
       "    </tr>\n",
       "    <tr>\n",
       "      <th>5</th>\n",
       "      <td>DMSO+FCCP</td>\n",
       "      <td>0.322770</td>\n",
       "      <td>0.342164</td>\n",
       "      <td>0.351183</td>\n",
       "      <td>0.330218</td>\n",
       "      <td>0.333304</td>\n",
       "      <td>0.335182</td>\n",
       "      <td>0.346449</td>\n",
       "    </tr>\n",
       "    <tr>\n",
       "      <th>6</th>\n",
       "      <td>DMSO+FCCP</td>\n",
       "      <td>0.297548</td>\n",
       "      <td>0.334785</td>\n",
       "      <td>0.318832</td>\n",
       "      <td>0.322844</td>\n",
       "      <td>0.323093</td>\n",
       "      <td>0.318450</td>\n",
       "      <td>0.321942</td>\n",
       "    </tr>\n",
       "    <tr>\n",
       "      <th>7</th>\n",
       "      <td>DMSO+FCCP</td>\n",
       "      <td>0.301491</td>\n",
       "      <td>0.338946</td>\n",
       "      <td>0.311763</td>\n",
       "      <td>0.350869</td>\n",
       "      <td>0.314532</td>\n",
       "      <td>0.318485</td>\n",
       "      <td>0.327541</td>\n",
       "    </tr>\n",
       "    <tr>\n",
       "      <th>8</th>\n",
       "      <td>BAF+FCCP</td>\n",
       "      <td>0.341829</td>\n",
       "      <td>0.332867</td>\n",
       "      <td>0.310242</td>\n",
       "      <td>0.321713</td>\n",
       "      <td>0.312317</td>\n",
       "      <td>0.295787</td>\n",
       "      <td>0.328375</td>\n",
       "    </tr>\n",
       "    <tr>\n",
       "      <th>9</th>\n",
       "      <td>BAF+FCCP</td>\n",
       "      <td>0.322915</td>\n",
       "      <td>0.329417</td>\n",
       "      <td>0.315665</td>\n",
       "      <td>0.321037</td>\n",
       "      <td>0.291760</td>\n",
       "      <td>0.293278</td>\n",
       "      <td>0.326021</td>\n",
       "    </tr>\n",
       "    <tr>\n",
       "      <th>10</th>\n",
       "      <td>BAF+FCCP</td>\n",
       "      <td>0.339862</td>\n",
       "      <td>0.351341</td>\n",
       "      <td>0.311497</td>\n",
       "      <td>0.321401</td>\n",
       "      <td>0.308585</td>\n",
       "      <td>0.296958</td>\n",
       "      <td>0.335020</td>\n",
       "    </tr>\n",
       "    <tr>\n",
       "      <th>11</th>\n",
       "      <td>BAF+FCCP</td>\n",
       "      <td>0.397662</td>\n",
       "      <td>0.400247</td>\n",
       "      <td>0.355285</td>\n",
       "      <td>0.376410</td>\n",
       "      <td>0.364749</td>\n",
       "      <td>0.334358</td>\n",
       "      <td>0.460190</td>\n",
       "    </tr>\n",
       "  </tbody>\n",
       "</table>\n",
       "</div>"
      ],
      "text/plain": [
       "    condition    normal        ev    ev_dox       wt1      vsr1       wt2  \\\n",
       "0        DMEM  0.342434  0.288684  0.297061       NaN       NaN       NaN   \n",
       "1        DMEM  0.359961  0.296064  0.291032       NaN       NaN       NaN   \n",
       "2        DMEM  0.365224  0.358595  0.302854       NaN       NaN       NaN   \n",
       "3        DMEM  0.400388  0.392901  0.340402       NaN       NaN       NaN   \n",
       "4   DMSO+FCCP  0.341203  0.320777  0.325255  0.338011  0.313264  0.344774   \n",
       "5   DMSO+FCCP  0.322770  0.342164  0.351183  0.330218  0.333304  0.335182   \n",
       "6   DMSO+FCCP  0.297548  0.334785  0.318832  0.322844  0.323093  0.318450   \n",
       "7   DMSO+FCCP  0.301491  0.338946  0.311763  0.350869  0.314532  0.318485   \n",
       "8    BAF+FCCP  0.341829  0.332867  0.310242  0.321713  0.312317  0.295787   \n",
       "9    BAF+FCCP  0.322915  0.329417  0.315665  0.321037  0.291760  0.293278   \n",
       "10   BAF+FCCP  0.339862  0.351341  0.311497  0.321401  0.308585  0.296958   \n",
       "11   BAF+FCCP  0.397662  0.400247  0.355285  0.376410  0.364749  0.334358   \n",
       "\n",
       "        vsr2  \n",
       "0        NaN  \n",
       "1        NaN  \n",
       "2        NaN  \n",
       "3        NaN  \n",
       "4   0.335820  \n",
       "5   0.346449  \n",
       "6   0.321942  \n",
       "7   0.327541  \n",
       "8   0.328375  \n",
       "9   0.326021  \n",
       "10  0.335020  \n",
       "11  0.460190  "
      ]
     },
     "execution_count": 12,
     "metadata": {},
     "output_type": "execute_result"
    }
   ],
   "source": [
    "#create dataframe for ratio\n",
    "df_ratio = df_aggregates.copy()\n",
    "df_ratio.drop(df_ratio.columns[1:], axis = 1, inplace = True)\n",
    "df_ratio = df_ratio.assign(condition = df_monomeric['condition'],\n",
    "                           normal= df_monomeric['WT MEF'] / df_aggregates['WT MEF'],\n",
    "                           ev= df_monomeric['ATG7-/-'] / df_aggregates['ATG7-/-'],\n",
    "                           ev_dox= df_monomeric['ATG7-/- +dox'] / df_aggregates['ATG7-/- +dox'],\n",
    "                           wt1= df_monomeric['ATG7(1)'] / df_aggregates['ATG7(1)'],\n",
    "                           vsr1= df_monomeric['dVSR(1)'] / df_aggregates['dVSR(1)'],\n",
    "                           wt2= df_monomeric['ATG7(2)'] / df_aggregates['ATG7(2)'],\n",
    "                           vsr2= df_monomeric['dVSR(2)'] / df_aggregates['dVSR(2)'])\n",
    "df_ratio"
   ]
  },
  {
   "cell_type": "code",
   "execution_count": 16,
   "metadata": {},
   "outputs": [
    {
     "name": "stdout",
     "output_type": "stream",
     "text": [
      "\n"
     ]
    },
    {
     "data": {
      "image/png": "[encoded data removed]",
      "text/plain": [
       "<Figure size 864x576 with 1 Axes>"
      ]
     },
     "metadata": {
      "needs_background": "light"
     },
     "output_type": "display_data"
    }
   ],
   "source": [
    "df_boxplot = df_ratio.melt(id_vars=[\"condition\"], var_name=\"cell lines\")\n",
    "\n",
    "#graph with BAF or DMSO treatment separatly to have a better view of the cell lines\n",
    "seaborn.boxplot(x=\"cell lines\", y=\"value\", hue = 'condition', palette = 'Set2', data = df_boxplot,\n",
    "                boxprops={'lw':2}, medianprops={'lw':2}, whiskerprops={'lw':2},\n",
    "                showcaps=True, showfliers=False)\n",
    "\n",
    "plt.ylabel('Fluorescence intensity\\n')\n",
    "plt.xlabel('')\n",
    "plt.title('', x=.55)\n",
    "print()"
   ]
  },
  {
   "cell_type": "code",
   "execution_count": 17,
   "metadata": {},
   "outputs": [
    {
     "name": "stdout",
     "output_type": "stream",
     "text": [
      "\n"
     ]
    },
    {
     "data": {
      "image/png": "[encoded data removed]",
      "text/plain": [
       "<Figure size 864x576 with 1 Axes>"
      ]
     },
     "metadata": {
      "needs_background": "light"
     },
     "output_type": "display_data"
    }
   ],
   "source": [
    "#without control\n",
    "df_ratio_noclt = df_ratio[~df_ratio[\"condition\"].str.contains('DMEM')]\n",
    "\n",
    "#melt wide to long\n",
    "df_boxplot = df_ratio_noclt.melt(id_vars=[\"condition\"], var_name=\"cell lines\")\n",
    "\n",
    "#graph with BAF or DMSO treatment separatly to have a better view of the cell lines\n",
    "seaborn.boxplot(x=\"cell lines\", y=\"value\", hue = 'condition', palette = 'Set2', data = df_boxplot,\n",
    "                boxprops={'lw':2}, medianprops={'lw':2}, whiskerprops={'lw':2},\n",
    "                showcaps=True, showfliers=False)\n",
    "\n",
    "plt.ylabel('Fluorescence intensity\\n')\n",
    "plt.xlabel('')\n",
    "plt.title('', x=.55)\n",
    "print()"
   ]
  },
  {
   "cell_type": "code",
   "execution_count": null,
   "metadata": {},
   "outputs": [],
   "source": [
    "#Distribution: Stats for all \n",
    "all_data = [[df_ratio, 'Ratio low/high mitochondria membrane potential', '(ratio 520/590 nm)']]\n",
    "\n",
    "column_name = df_ratio.keys()\n",
    "for data_ in all_data:\n",
    "    Data = data_[0]\n",
    "    info = data_[1]\n",
    "    info_fluo = data_[2]  \n",
    "    print(info)\n",
    "    \n",
    "    #separation of DMSO and BAF\n",
    "    df_dmso = Data[Data['condition'].str.startswith('DMSO')]\n",
    "    df2_baf = Data[Data['condition'].str.startswith('BAF')]\n",
    "\n",
    "    dfs_conditions = [[df_dmso, 'with DMSO'], [df2_baf, 'with BAF']]\n",
    "    for df_ in dfs_conditions:\n",
    "        data_drug = df_[0]\n",
    "        drug_info = df_[1]\n",
    "        print(drug_info.upper())\n",
    "        \n",
    "        # Mann-Whitney analysis \n",
    "        #EV vs WT1\n",
    "        statistic, pvalue = scipy.stats.mannwhitneyu(data_drug[column_name[3]], data_drug[column_name[4]])\n",
    "        Pvalue = \"{:.3E}\".format(pvalue)\n",
    "        print(column_name[3], \"and\", column_name[4], drug_info, 'pvalue is', Pvalue)\n",
    "        \n",
    "        #EV vs WT1\n",
    "        statistic, pvalue = scipy.stats.mannwhitneyu(data_drug[column_name[3]], data_drug[column_name[6]])\n",
    "        Pvalue = \"{:.3E}\".format(pvalue)\n",
    "        print(column_name[3], \"and\", column_name[6], drug_info, 'pvalue is', Pvalue)\n",
    "        \n",
    "         #EV vs WT1\n",
    "        statistic, pvalue = scipy.stats.mannwhitneyu(data_drug[column_name[4]], data_drug[column_name[6]])\n",
    "        Pvalue = \"{:.3E}\".format(pvalue)\n",
    "        print(column_name[4], \"and\", column_name[6], drug_info, 'pvalue is', Pvalue)\n",
    "        print()"
   ]
  }
 ],
 "metadata": {
  "kernelspec": {
   "display_name": "Python 3",
   "language": "python",
   "name": "python3"
  },
  "language_info": {
   "codemirror_mode": {
    "name": "ipython",
    "version": 3
   },
   "file_extension": ".py",
   "mimetype": "text/x-python",
   "name": "python",
   "nbconvert_exporter": "python",
   "pygments_lexer": "ipython3",
   "version": "3.8.5"
  }
 },
 "nbformat": 4,
 "nbformat_minor": 4
}
