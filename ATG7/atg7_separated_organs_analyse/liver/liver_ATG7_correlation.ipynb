{
 "cells": [
  {
   "cell_type": "markdown",
   "metadata": {
    "id": "ifhgKXirU9Ds"
   },
   "source": [
    "# I] Import"
   ]
  },
  {
   "cell_type": "code",
   "execution_count": 1,
   "metadata": {
    "id": "TLQwwG5VDPFA"
   },
   "outputs": [],
   "source": [
    "import pandas, numpy, math, seaborn\n",
    "import scipy, scipy.stats\n",
    "import matplotlib, matplotlib.pyplot as plt\n",
    "from matplotlib_venn import venn2\n",
    "# this is a trick to make figures look nicer\n",
    "matplotlib.rcParams.update({'font.size':20, 'font.family':'FreeSans', 'xtick.labelsize':20, 'ytick.labelsize':10, 'figure.figsize':(12, 8)})"
   ]
  },
  {
   "cell_type": "code",
   "execution_count": 2,
   "metadata": {},
   "outputs": [],
   "source": [
    "input_file_directory = '/Users/kja11/OneDrive - Háskóli Íslands/PhD ATG7//0 in_silico/Python/1)data_input/'\n",
    "output_file_directory = '/Users/kja11/OneDrive - Háskóli Íslands/PhD ATG7/0 in_silico/Python/3)output/'"
   ]
  },
  {
   "cell_type": "markdown",
   "metadata": {
    "id": "wYGSc-xPDaFV"
   },
   "source": [
    "## functions & options\n"
   ]
  },
  {
   "cell_type": "markdown",
   "metadata": {
    "id": "IpmCT5mEDPFD"
   },
   "source": [
    "# II] Dataframe download"
   ]
  },
  {
   "cell_type": "code",
   "execution_count": 3,
   "metadata": {},
   "outputs": [
    {
     "name": "stdout",
     "output_type": "stream",
     "text": [
      "(479, 4)\n",
      "Wall time: 12.9 ms\n"
     ]
    },
    {
     "data": {
      "text/html": [
       "<div>\n",
       "<style scoped>\n",
       "    .dataframe tbody tr th:only-of-type {\n",
       "        vertical-align: middle;\n",
       "    }\n",
       "\n",
       "    .dataframe tbody tr th {\n",
       "        vertical-align: top;\n",
       "    }\n",
       "\n",
       "    .dataframe thead th {\n",
       "        text-align: right;\n",
       "    }\n",
       "</style>\n",
       "<table border=\"1\" class=\"dataframe\">\n",
       "  <thead>\n",
       "    <tr style=\"text-align: right;\">\n",
       "      <th></th>\n",
       "      <th>sample</th>\n",
       "      <th>_sample_type</th>\n",
       "      <th>_primary_site</th>\n",
       "    </tr>\n",
       "  </thead>\n",
       "  <tbody>\n",
       "    <tr>\n",
       "      <th>0</th>\n",
       "      <td>GTEX-1192X-1026-SM-5H12P</td>\n",
       "      <td>Normal Tissue</td>\n",
       "      <td>Liver</td>\n",
       "    </tr>\n",
       "    <tr>\n",
       "      <th>1</th>\n",
       "      <td>GTEX-11DXY-0526-SM-5EGGQ</td>\n",
       "      <td>Normal Tissue</td>\n",
       "      <td>Liver</td>\n",
       "    </tr>\n",
       "    <tr>\n",
       "      <th>2</th>\n",
       "      <td>GTEX-11DXZ-0126-SM-5EGGY</td>\n",
       "      <td>Normal Tissue</td>\n",
       "      <td>Liver</td>\n",
       "    </tr>\n",
       "    <tr>\n",
       "      <th>3</th>\n",
       "      <td>GTEX-11EQ9-0526-SM-5A5JZ</td>\n",
       "      <td>Normal Tissue</td>\n",
       "      <td>Liver</td>\n",
       "    </tr>\n",
       "    <tr>\n",
       "      <th>4</th>\n",
       "      <td>GTEX-11NUK-1226-SM-5P9GM</td>\n",
       "      <td>Normal Tissue</td>\n",
       "      <td>Liver</td>\n",
       "    </tr>\n",
       "  </tbody>\n",
       "</table>\n",
       "</div>"
      ],
      "text/plain": [
       "                     sample   _sample_type _primary_site\n",
       "0  GTEX-1192X-1026-SM-5H12P  Normal Tissue         Liver\n",
       "1  GTEX-11DXY-0526-SM-5EGGQ  Normal Tissue         Liver\n",
       "2  GTEX-11DXZ-0126-SM-5EGGY  Normal Tissue         Liver\n",
       "3  GTEX-11EQ9-0526-SM-5A5JZ  Normal Tissue         Liver\n",
       "4  GTEX-11NUK-1226-SM-5P9GM  Normal Tissue         Liver"
      ]
     },
     "execution_count": 3,
     "metadata": {},
     "output_type": "execute_result"
    }
   ],
   "source": [
    "%%time\n",
    "# DL liver samples IDs for normal and primary tumors\n",
    "path = input_file_directory +'samples_IDs/Organ_specific_samples/'\n",
    "directory = path + \"samples_liver.tsv\"\n",
    "liver_samples_IDs= pandas.read_csv(directory, sep = \"\\t\")\n",
    "print(liver_samples_IDs.shape)\n",
    "\n",
    "liver_samples_IDs = liver_samples_IDs.drop('samples', axis = 1)\n",
    "liver_samples_IDs.head()"
   ]
  },
  {
   "cell_type": "code",
   "execution_count": 4,
   "metadata": {},
   "outputs": [
    {
     "name": "stdout",
     "output_type": "stream",
     "text": [
      "(16614, 20)\n",
      "Wall time: 88.8 ms\n"
     ]
    },
    {
     "data": {
      "text/html": [
       "<div>\n",
       "<style scoped>\n",
       "    .dataframe tbody tr th:only-of-type {\n",
       "        vertical-align: middle;\n",
       "    }\n",
       "\n",
       "    .dataframe tbody tr th {\n",
       "        vertical-align: top;\n",
       "    }\n",
       "\n",
       "    .dataframe thead th {\n",
       "        text-align: right;\n",
       "    }\n",
       "</style>\n",
       "<table border=\"1\" class=\"dataframe\">\n",
       "  <thead>\n",
       "    <tr style=\"text-align: right;\">\n",
       "      <th></th>\n",
       "      <th>sample</th>\n",
       "      <th>Sample_Type</th>\n",
       "      <th>Primary_Site</th>\n",
       "      <th>ATG7</th>\n",
       "      <th>ATG7_1</th>\n",
       "      <th>ATG7_2</th>\n",
       "      <th>ATG7_3</th>\n",
       "      <th>ATG7_total</th>\n",
       "      <th>ATG7_1tpm</th>\n",
       "      <th>ATG7_2tpm</th>\n",
       "      <th>ATG7_3tpm</th>\n",
       "      <th>log2_p1_ATG7_total</th>\n",
       "      <th>log2_p1_ATG7_1</th>\n",
       "      <th>log2_p1_ATG7_2</th>\n",
       "      <th>ATG7_prot_tot</th>\n",
       "      <th>ATG7_1perc</th>\n",
       "      <th>ATG7_2perc</th>\n",
       "      <th>ATG7_3perc</th>\n",
       "      <th>ATG7_1norm</th>\n",
       "      <th>ATG7_2norm</th>\n",
       "    </tr>\n",
       "  </thead>\n",
       "  <tbody>\n",
       "    <tr>\n",
       "      <th>0</th>\n",
       "      <td>GTEX-ZTTD-0326-SM-57WFW</td>\n",
       "      <td>Normal Tissue</td>\n",
       "      <td>Muscle</td>\n",
       "      <td>5.042</td>\n",
       "      <td>3.860</td>\n",
       "      <td>2.390</td>\n",
       "      <td>0.2642</td>\n",
       "      <td>32.944283</td>\n",
       "      <td>14.519306</td>\n",
       "      <td>5.240574</td>\n",
       "      <td>1.199970</td>\n",
       "      <td>5.085097</td>\n",
       "      <td>3.955992</td>\n",
       "      <td>2.641679</td>\n",
       "      <td>20.95985</td>\n",
       "      <td>69.271996</td>\n",
       "      <td>25.002916</td>\n",
       "      <td>5.725088</td>\n",
       "      <td>0.440723</td>\n",
       "      <td>0.159074</td>\n",
       "    </tr>\n",
       "    <tr>\n",
       "      <th>1</th>\n",
       "      <td>GTEX-PX3G-1626-SM-2S1PT</td>\n",
       "      <td>Normal Tissue</td>\n",
       "      <td>Muscle</td>\n",
       "      <td>4.252</td>\n",
       "      <td>2.322</td>\n",
       "      <td>1.956</td>\n",
       "      <td>1.1320</td>\n",
       "      <td>19.052710</td>\n",
       "      <td>4.999249</td>\n",
       "      <td>3.878848</td>\n",
       "      <td>2.190624</td>\n",
       "      <td>4.325725</td>\n",
       "      <td>2.584782</td>\n",
       "      <td>2.286540</td>\n",
       "      <td>11.06872</td>\n",
       "      <td>45.165557</td>\n",
       "      <td>35.043325</td>\n",
       "      <td>19.791118</td>\n",
       "      <td>0.262390</td>\n",
       "      <td>0.203585</td>\n",
       "    </tr>\n",
       "  </tbody>\n",
       "</table>\n",
       "</div>"
      ],
      "text/plain": [
       "                    sample    Sample_Type Primary_Site   ATG7  ATG7_1  ATG7_2  \\\n",
       "0  GTEX-ZTTD-0326-SM-57WFW  Normal Tissue       Muscle  5.042   3.860   2.390   \n",
       "1  GTEX-PX3G-1626-SM-2S1PT  Normal Tissue       Muscle  4.252   2.322   1.956   \n",
       "\n",
       "   ATG7_3  ATG7_total  ATG7_1tpm  ATG7_2tpm  ATG7_3tpm  log2_p1_ATG7_total  \\\n",
       "0  0.2642   32.944283  14.519306   5.240574   1.199970            5.085097   \n",
       "1  1.1320   19.052710   4.999249   3.878848   2.190624            4.325725   \n",
       "\n",
       "   log2_p1_ATG7_1  log2_p1_ATG7_2  ATG7_prot_tot  ATG7_1perc  ATG7_2perc  \\\n",
       "0        3.955992        2.641679       20.95985   69.271996   25.002916   \n",
       "1        2.584782        2.286540       11.06872   45.165557   35.043325   \n",
       "\n",
       "   ATG7_3perc  ATG7_1norm  ATG7_2norm  \n",
       "0    5.725088    0.440723    0.159074  \n",
       "1   19.791118    0.262390    0.203585  "
      ]
     },
     "execution_count": 4,
     "metadata": {},
     "output_type": "execute_result"
    }
   ],
   "source": [
    "%%time\n",
    "# DL all data ATG7 isoform expression\n",
    "path = output_file_directory + \"/ATG7/TCGA_GTEX/dataframes_for_input/df_ATG7_NormPrim.csv\"\n",
    "df_ATG7_NormPrim= pandas.read_csv(path, sep = \",\")\n",
    "\n",
    "#remove Survival information\n",
    "df_ATG7_NormPrim.drop(df_ATG7_NormPrim.columns[[3, 4]], axis = 1, inplace = True)\n",
    "\n",
    "print(df_ATG7_NormPrim.shape)\n",
    "df_ATG7_NormPrim.head(2)"
   ]
  },
  {
   "cell_type": "code",
   "execution_count": 5,
   "metadata": {},
   "outputs": [
    {
     "name": "stdout",
     "output_type": "stream",
     "text": [
      "min: -1.4951130035000156e-07\n",
      "min: 0.0\n"
     ]
    }
   ],
   "source": [
    "#Do not have negative tpm\n",
    "print(\"min:\", df_ATG7_NormPrim['ATG7_1tpm'].min())\n",
    "test = df_ATG7_NormPrim\n",
    "df_ATG7_NormPrim['ATG7_1tpm'] = numpy.where(df_ATG7_NormPrim['ATG7_1tpm'] < 0, 0, df_ATG7_NormPrim['ATG7_1tpm'])\n",
    "df_ATG7_NormPrim['ATG7_2tpm'] = numpy.where(df_ATG7_NormPrim['ATG7_2tpm'] < 0, 0, df_ATG7_NormPrim['ATG7_2tpm'])\n",
    "print(\"min:\", df_ATG7_NormPrim['ATG7_1tpm'].min())"
   ]
  },
  {
   "cell_type": "code",
   "execution_count": 6,
   "metadata": {},
   "outputs": [
    {
     "name": "stdout",
     "output_type": "stream",
     "text": [
      "number of normal tissue: 110\n",
      "number of primary tumors: 369\n",
      "\n",
      "                      sample\n",
      "0  GTEX-1192X-1026-SM-5H12P\n",
      "1  GTEX-11DXY-0526-SM-5EGGQ\n",
      "2  GTEX-11DXZ-0126-SM-5EGGY\n",
      "3  GTEX-11EQ9-0526-SM-5A5JZ\n",
      "4  GTEX-11NUK-1226-SM-5P9GM\n"
     ]
    }
   ],
   "source": [
    "#find number of normal tissue\n",
    "nb_normal = len(liver_samples_IDs[liver_samples_IDs['_sample_type'] == 'Normal Tissue'])\n",
    "\n",
    "#select normal and primary separatlydd\n",
    "normal_liver_labels = liver_samples_IDs.iloc[:nb_normal ,0:1]\n",
    "print('number of normal tissue:', len(normal_liver_labels))\n",
    "\n",
    "primary_liver_labels = liver_samples_IDs.iloc[nb_normal: ,0:1]\n",
    "print('number of primary tumors:', len(primary_liver_labels))\n",
    "print('\\n', normal_liver_labels.head())"
   ]
  },
  {
   "cell_type": "code",
   "execution_count": 7,
   "metadata": {},
   "outputs": [
    {
     "name": "stdout",
     "output_type": "stream",
     "text": [
      "size should be: 479\n"
     ]
    },
    {
     "data": {
      "text/plain": [
       "(479, 22)"
      ]
     },
     "execution_count": 7,
     "metadata": {},
     "output_type": "execute_result"
    }
   ],
   "source": [
    "#create a df_ATG7_NormPrim only with liver\n",
    "df_ATG7_NormPrim_liver = liver_samples_IDs.merge(df_ATG7_NormPrim)\n",
    "print('size should be:',110+369)\n",
    "df_ATG7_NormPrim_liver.shape"
   ]
  },
  {
   "cell_type": "code",
   "execution_count": 8,
   "metadata": {},
   "outputs": [
    {
     "name": "stdout",
     "output_type": "stream",
     "text": [
      "(110, 20)\n",
      "(369, 20)\n",
      "            sample    Sample_Type Primary_Site   ATG7  ATG7_1\n",
      "0  TCGA-2V-A95S-01  Primary Tumor        Liver  2.778   2.526\n",
      "1  TCGA-2Y-A9GS-01  Primary Tumor        Liver  4.198   2.919\n",
      "2  TCGA-2Y-A9GT-01  Primary Tumor        Liver  2.539   1.541\n",
      "3  TCGA-2Y-A9GU-01  Primary Tumor        Liver  2.712   1.556\n",
      "4  TCGA-2Y-A9GV-01  Primary Tumor        Liver  3.048   1.637\n"
     ]
    }
   ],
   "source": [
    "#subset, split normal and primary\n",
    "df_ATG7_Normal_liver = normal_liver_labels.merge(df_ATG7_NormPrim)\n",
    "df_ATG7_Primary_liver = primary_liver_labels.merge(df_ATG7_NormPrim)\n",
    "\n",
    "print(df_ATG7_Normal_liver.shape)\n",
    "print(df_ATG7_Primary_liver.shape)\n",
    "print(df_ATG7_Primary_liver.iloc[:,0:5].head())"
   ]
  },
  {
   "cell_type": "markdown",
   "metadata": {
    "id": "IpmCT5mEDPFD"
   },
   "source": [
    "# II] Dataframe download"
   ]
  },
  {
   "cell_type": "markdown",
   "metadata": {
    "id": "scwtwuDCqUKz"
   },
   "source": [
    "## all gene expression data + atg7 isoforms"
   ]
  },
  {
   "cell_type": "code",
   "execution_count": 9,
   "metadata": {},
   "outputs": [
    {
     "name": "stdout",
     "output_type": "stream",
     "text": [
      "(110, 19387)\n",
      "(369, 19387)\n",
      "Wall time: 8.07 s\n"
     ]
    },
    {
     "data": {
      "text/html": [
       "<div>\n",
       "<style scoped>\n",
       "    .dataframe tbody tr th:only-of-type {\n",
       "        vertical-align: middle;\n",
       "    }\n",
       "\n",
       "    .dataframe tbody tr th {\n",
       "        vertical-align: top;\n",
       "    }\n",
       "\n",
       "    .dataframe thead th {\n",
       "        text-align: right;\n",
       "    }\n",
       "</style>\n",
       "<table border=\"1\" class=\"dataframe\">\n",
       "  <thead>\n",
       "    <tr style=\"text-align: right;\">\n",
       "      <th></th>\n",
       "      <th>Sample_Type</th>\n",
       "      <th>Primary_Site</th>\n",
       "      <th>ATG7</th>\n",
       "      <th>ATG7_1</th>\n",
       "      <th>ATG7_2</th>\n",
       "      <th>ENSG00000198888</th>\n",
       "      <th>ENSG00000198763</th>\n",
       "      <th>ENSG00000198804</th>\n",
       "      <th>ENSG00000198712</th>\n",
       "      <th>ENSG00000228253</th>\n",
       "      <th>...</th>\n",
       "      <th>ENSG00000160678</th>\n",
       "      <th>ENSG00000160679</th>\n",
       "      <th>ENSG00000143553</th>\n",
       "      <th>ENSG00000214193</th>\n",
       "      <th>ENSG00000196182</th>\n",
       "      <th>ENSG00000181817</th>\n",
       "      <th>ENSG00000116885</th>\n",
       "      <th>ENSG00000116898</th>\n",
       "      <th>ENSG00000119535</th>\n",
       "      <th>ENSG00000142694</th>\n",
       "    </tr>\n",
       "  </thead>\n",
       "  <tbody>\n",
       "    <tr>\n",
       "      <th>0</th>\n",
       "      <td>Normal Tissue</td>\n",
       "      <td>Liver</td>\n",
       "      <td>4.146</td>\n",
       "      <td>2.6020</td>\n",
       "      <td>2.211</td>\n",
       "      <td>12.1227</td>\n",
       "      <td>12.469</td>\n",
       "      <td>12.8944</td>\n",
       "      <td>12.8383</td>\n",
       "      <td>13.4944</td>\n",
       "      <td>...</td>\n",
       "      <td>0.9038</td>\n",
       "      <td>5.9028</td>\n",
       "      <td>4.9477</td>\n",
       "      <td>1.9073</td>\n",
       "      <td>5.9903</td>\n",
       "      <td>5.7578</td>\n",
       "      <td>1.4911</td>\n",
       "      <td>6.6100</td>\n",
       "      <td>6.8698</td>\n",
       "      <td>5.0854</td>\n",
       "    </tr>\n",
       "    <tr>\n",
       "      <th>1</th>\n",
       "      <td>Normal Tissue</td>\n",
       "      <td>Liver</td>\n",
       "      <td>3.453</td>\n",
       "      <td>0.5069</td>\n",
       "      <td>2.208</td>\n",
       "      <td>13.0273</td>\n",
       "      <td>13.408</td>\n",
       "      <td>13.5398</td>\n",
       "      <td>13.9006</td>\n",
       "      <td>14.5052</td>\n",
       "      <td>...</td>\n",
       "      <td>0.6699</td>\n",
       "      <td>5.5808</td>\n",
       "      <td>4.1539</td>\n",
       "      <td>0.0014</td>\n",
       "      <td>5.3548</td>\n",
       "      <td>5.0211</td>\n",
       "      <td>1.0151</td>\n",
       "      <td>6.3555</td>\n",
       "      <td>3.3105</td>\n",
       "      <td>2.2082</td>\n",
       "    </tr>\n",
       "  </tbody>\n",
       "</table>\n",
       "<p>2 rows × 19387 columns</p>\n",
       "</div>"
      ],
      "text/plain": [
       "     Sample_Type Primary_Site   ATG7  ATG7_1  ATG7_2  ENSG00000198888  \\\n",
       "0  Normal Tissue        Liver  4.146  2.6020   2.211          12.1227   \n",
       "1  Normal Tissue        Liver  3.453  0.5069   2.208          13.0273   \n",
       "\n",
       "   ENSG00000198763  ENSG00000198804  ENSG00000198712  ENSG00000228253  ...  \\\n",
       "0           12.469          12.8944          12.8383          13.4944  ...   \n",
       "1           13.408          13.5398          13.9006          14.5052  ...   \n",
       "\n",
       "   ENSG00000160678  ENSG00000160679  ENSG00000143553  ENSG00000214193  \\\n",
       "0           0.9038           5.9028           4.9477           1.9073   \n",
       "1           0.6699           5.5808           4.1539           0.0014   \n",
       "\n",
       "   ENSG00000196182  ENSG00000181817  ENSG00000116885  ENSG00000116898  \\\n",
       "0           5.9903           5.7578           1.4911           6.6100   \n",
       "1           5.3548           5.0211           1.0151           6.3555   \n",
       "\n",
       "   ENSG00000119535  ENSG00000142694  \n",
       "0           6.8698           5.0854  \n",
       "1           3.3105           2.2082  \n",
       "\n",
       "[2 rows x 19387 columns]"
      ]
     },
     "execution_count": 9,
     "metadata": {},
     "output_type": "execute_result"
    }
   ],
   "source": [
    "%%time\n",
    "# DL data gene expression for Normal Tissue and Primary Tumors for liver\n",
    "path = output_file_directory + \"/dataframes_for_input/liver/\"\n",
    "ensembl_normal_liver_atg7_proteinGE = pandas.read_csv(path+\"ensembl_normal_liver_atg7_proteinGE.tsv\", sep = \"\\t\")\n",
    "ensembl_primary_liver_atg7_proteinGE = pandas.read_csv(path+\"ensembl_primary_liver_atg7_proteinGE.tsv\", sep = \"\\t\")\n",
    "\n",
    "print(ensembl_normal_liver_atg7_proteinGE.shape)\n",
    "print(ensembl_primary_liver_atg7_proteinGE.shape)\n",
    "ensembl_normal_liver_atg7_proteinGE.head(2)"
   ]
  },
  {
   "cell_type": "code",
   "execution_count": 10,
   "metadata": {},
   "outputs": [
    {
     "name": "stdout",
     "output_type": "stream",
     "text": [
      "(22796, 4)\n",
      "Wall time: 35.9 ms\n"
     ]
    },
    {
     "data": {
      "text/html": [
       "<div>\n",
       "<style scoped>\n",
       "    .dataframe tbody tr th:only-of-type {\n",
       "        vertical-align: middle;\n",
       "    }\n",
       "\n",
       "    .dataframe tbody tr th {\n",
       "        vertical-align: top;\n",
       "    }\n",
       "\n",
       "    .dataframe thead th {\n",
       "        text-align: right;\n",
       "    }\n",
       "</style>\n",
       "<table border=\"1\" class=\"dataframe\">\n",
       "  <thead>\n",
       "    <tr style=\"text-align: right;\">\n",
       "      <th></th>\n",
       "      <th>ensembl_gene_id</th>\n",
       "      <th>hgnc_symbol</th>\n",
       "      <th>entrezgene_id</th>\n",
       "      <th>transcript_biotype</th>\n",
       "    </tr>\n",
       "  </thead>\n",
       "  <tbody>\n",
       "    <tr>\n",
       "      <th>1</th>\n",
       "      <td>ENSG00000198888</td>\n",
       "      <td>MT-ND1</td>\n",
       "      <td>4535.0</td>\n",
       "      <td>protein_coding</td>\n",
       "    </tr>\n",
       "    <tr>\n",
       "      <th>2</th>\n",
       "      <td>ENSG00000198763</td>\n",
       "      <td>MT-ND2</td>\n",
       "      <td>4536.0</td>\n",
       "      <td>protein_coding</td>\n",
       "    </tr>\n",
       "    <tr>\n",
       "      <th>3</th>\n",
       "      <td>ENSG00000198804</td>\n",
       "      <td>MT-CO1</td>\n",
       "      <td>4512.0</td>\n",
       "      <td>protein_coding</td>\n",
       "    </tr>\n",
       "    <tr>\n",
       "      <th>4</th>\n",
       "      <td>ENSG00000198712</td>\n",
       "      <td>MT-CO2</td>\n",
       "      <td>4513.0</td>\n",
       "      <td>protein_coding</td>\n",
       "    </tr>\n",
       "    <tr>\n",
       "      <th>5</th>\n",
       "      <td>ENSG00000228253</td>\n",
       "      <td>MT-ATP8</td>\n",
       "      <td>4509.0</td>\n",
       "      <td>protein_coding</td>\n",
       "    </tr>\n",
       "  </tbody>\n",
       "</table>\n",
       "</div>"
      ],
      "text/plain": [
       "   ensembl_gene_id hgnc_symbol  entrezgene_id transcript_biotype\n",
       "1  ENSG00000198888      MT-ND1         4535.0     protein_coding\n",
       "2  ENSG00000198763      MT-ND2         4536.0     protein_coding\n",
       "3  ENSG00000198804      MT-CO1         4512.0     protein_coding\n",
       "4  ENSG00000198712      MT-CO2         4513.0     protein_coding\n",
       "5  ENSG00000228253     MT-ATP8         4509.0     protein_coding"
      ]
     },
     "execution_count": 10,
     "metadata": {},
     "output_type": "execute_result"
    }
   ],
   "source": [
    "%%time\n",
    "#download the protein coding list. will be useful with correlation results.\n",
    "path = input_file_directory + \"protein_coding_list.txt\"\n",
    "protein_coding_list= pandas.read_csv(path, sep = \"\\t\")\n",
    "print(protein_coding_list.shape)\n",
    "protein_coding_list.head()"
   ]
  },
  {
   "cell_type": "markdown",
   "metadata": {
    "id": "ivLjI2vHTV5A"
   },
   "source": [
    "# IV] Expression correlation "
   ]
  },
  {
   "cell_type": "code",
   "execution_count": 11,
   "metadata": {
    "colab": {
     "base_uri": "https://localhost:8080/",
     "height": 80
    },
    "id": "LxKzIf-63QkM",
    "outputId": "d3f87990-186f-495a-f239-47666351655f"
   },
   "outputs": [
    {
     "data": {
      "text/html": [
       "<div>\n",
       "<style scoped>\n",
       "    .dataframe tbody tr th:only-of-type {\n",
       "        vertical-align: middle;\n",
       "    }\n",
       "\n",
       "    .dataframe tbody tr th {\n",
       "        vertical-align: top;\n",
       "    }\n",
       "\n",
       "    .dataframe thead th {\n",
       "        text-align: right;\n",
       "    }\n",
       "</style>\n",
       "<table border=\"1\" class=\"dataframe\">\n",
       "  <thead>\n",
       "    <tr style=\"text-align: right;\">\n",
       "      <th></th>\n",
       "      <th>ensembl_gene_id</th>\n",
       "      <th>hgnc_symbol</th>\n",
       "      <th>entrezgene_id</th>\n",
       "      <th>transcript_biotype</th>\n",
       "    </tr>\n",
       "  </thead>\n",
       "  <tbody>\n",
       "    <tr>\n",
       "      <th>19160</th>\n",
       "      <td>ENSG00000037749</td>\n",
       "      <td>MFAP3</td>\n",
       "      <td>4238.0</td>\n",
       "      <td>protein_coding</td>\n",
       "    </tr>\n",
       "  </tbody>\n",
       "</table>\n",
       "</div>"
      ],
      "text/plain": [
       "       ensembl_gene_id hgnc_symbol  entrezgene_id transcript_biotype\n",
       "19160  ENSG00000037749       MFAP3         4238.0     protein_coding"
      ]
     },
     "execution_count": 11,
     "metadata": {},
     "output_type": "execute_result"
    }
   ],
   "source": [
    "#to know the ensembl code for HK2\n",
    "protein_coding_list.loc[protein_coding_list['hgnc_symbol'] == 'MFAP3']"
   ]
  },
  {
   "cell_type": "markdown",
   "metadata": {
    "id": "RgHYwrKD4LgQ"
   },
   "source": [
    "## 1) Data preparation"
   ]
  },
  {
   "cell_type": "code",
   "execution_count": 12,
   "metadata": {},
   "outputs": [
    {
     "data": {
      "text/html": [
       "<div>\n",
       "<style scoped>\n",
       "    .dataframe tbody tr th:only-of-type {\n",
       "        vertical-align: middle;\n",
       "    }\n",
       "\n",
       "    .dataframe tbody tr th {\n",
       "        vertical-align: top;\n",
       "    }\n",
       "\n",
       "    .dataframe thead th {\n",
       "        text-align: right;\n",
       "    }\n",
       "</style>\n",
       "<table border=\"1\" class=\"dataframe\">\n",
       "  <thead>\n",
       "    <tr style=\"text-align: right;\">\n",
       "      <th></th>\n",
       "      <th>Sample_Type</th>\n",
       "      <th>Primary_Site</th>\n",
       "      <th>ATG7</th>\n",
       "      <th>ATG7_1</th>\n",
       "      <th>ATG7_2</th>\n",
       "      <th>ENSG00000198888</th>\n",
       "      <th>ENSG00000198763</th>\n",
       "      <th>ENSG00000198804</th>\n",
       "      <th>ENSG00000198712</th>\n",
       "      <th>ENSG00000228253</th>\n",
       "      <th>...</th>\n",
       "      <th>ENSG00000160678</th>\n",
       "      <th>ENSG00000160679</th>\n",
       "      <th>ENSG00000143553</th>\n",
       "      <th>ENSG00000214193</th>\n",
       "      <th>ENSG00000196182</th>\n",
       "      <th>ENSG00000181817</th>\n",
       "      <th>ENSG00000116885</th>\n",
       "      <th>ENSG00000116898</th>\n",
       "      <th>ENSG00000119535</th>\n",
       "      <th>ENSG00000142694</th>\n",
       "    </tr>\n",
       "  </thead>\n",
       "  <tbody>\n",
       "    <tr>\n",
       "      <th>0</th>\n",
       "      <td>Primary Tumor</td>\n",
       "      <td>Liver</td>\n",
       "      <td>4.517</td>\n",
       "      <td>3.000</td>\n",
       "      <td>2.9110</td>\n",
       "      <td>12.4955</td>\n",
       "      <td>13.5057</td>\n",
       "      <td>13.2462</td>\n",
       "      <td>13.8849</td>\n",
       "      <td>13.3103</td>\n",
       "      <td>...</td>\n",
       "      <td>1.0642</td>\n",
       "      <td>5.1363</td>\n",
       "      <td>5.1073</td>\n",
       "      <td>1.6785</td>\n",
       "      <td>3.8380</td>\n",
       "      <td>4.9547</td>\n",
       "      <td>0.4340</td>\n",
       "      <td>6.0792</td>\n",
       "      <td>3.4477</td>\n",
       "      <td>4.6130</td>\n",
       "    </tr>\n",
       "    <tr>\n",
       "      <th>1</th>\n",
       "      <td>Primary Tumor</td>\n",
       "      <td>Liver</td>\n",
       "      <td>4.487</td>\n",
       "      <td>3.022</td>\n",
       "      <td>2.2810</td>\n",
       "      <td>11.5669</td>\n",
       "      <td>12.1958</td>\n",
       "      <td>13.6812</td>\n",
       "      <td>13.6428</td>\n",
       "      <td>13.1039</td>\n",
       "      <td>...</td>\n",
       "      <td>4.8238</td>\n",
       "      <td>6.9701</td>\n",
       "      <td>6.5026</td>\n",
       "      <td>0.6332</td>\n",
       "      <td>3.9947</td>\n",
       "      <td>5.4420</td>\n",
       "      <td>2.5263</td>\n",
       "      <td>6.9790</td>\n",
       "      <td>1.3956</td>\n",
       "      <td>4.5632</td>\n",
       "    </tr>\n",
       "    <tr>\n",
       "      <th>2</th>\n",
       "      <td>Primary Tumor</td>\n",
       "      <td>Liver</td>\n",
       "      <td>4.428</td>\n",
       "      <td>3.968</td>\n",
       "      <td>-2.5480</td>\n",
       "      <td>10.5765</td>\n",
       "      <td>10.8512</td>\n",
       "      <td>12.6795</td>\n",
       "      <td>13.1709</td>\n",
       "      <td>12.3642</td>\n",
       "      <td>...</td>\n",
       "      <td>1.3167</td>\n",
       "      <td>5.7885</td>\n",
       "      <td>5.1863</td>\n",
       "      <td>-0.1993</td>\n",
       "      <td>5.1696</td>\n",
       "      <td>6.2186</td>\n",
       "      <td>1.4011</td>\n",
       "      <td>6.4933</td>\n",
       "      <td>3.8837</td>\n",
       "      <td>5.5874</td>\n",
       "    </tr>\n",
       "    <tr>\n",
       "      <th>3</th>\n",
       "      <td>Primary Tumor</td>\n",
       "      <td>Liver</td>\n",
       "      <td>4.410</td>\n",
       "      <td>3.915</td>\n",
       "      <td>-0.0130</td>\n",
       "      <td>12.4415</td>\n",
       "      <td>12.3455</td>\n",
       "      <td>13.1002</td>\n",
       "      <td>13.0201</td>\n",
       "      <td>12.2521</td>\n",
       "      <td>...</td>\n",
       "      <td>0.9568</td>\n",
       "      <td>6.6469</td>\n",
       "      <td>6.3176</td>\n",
       "      <td>1.2394</td>\n",
       "      <td>4.4263</td>\n",
       "      <td>5.8485</td>\n",
       "      <td>3.4504</td>\n",
       "      <td>7.2433</td>\n",
       "      <td>4.6023</td>\n",
       "      <td>4.8997</td>\n",
       "    </tr>\n",
       "    <tr>\n",
       "      <th>4</th>\n",
       "      <td>Primary Tumor</td>\n",
       "      <td>Liver</td>\n",
       "      <td>4.323</td>\n",
       "      <td>3.952</td>\n",
       "      <td>-0.6193</td>\n",
       "      <td>11.1251</td>\n",
       "      <td>11.4593</td>\n",
       "      <td>12.4586</td>\n",
       "      <td>12.5747</td>\n",
       "      <td>11.8480</td>\n",
       "      <td>...</td>\n",
       "      <td>-0.7834</td>\n",
       "      <td>5.7241</td>\n",
       "      <td>5.2552</td>\n",
       "      <td>0.3573</td>\n",
       "      <td>3.8896</td>\n",
       "      <td>6.3196</td>\n",
       "      <td>1.4120</td>\n",
       "      <td>7.0125</td>\n",
       "      <td>3.9608</td>\n",
       "      <td>5.0251</td>\n",
       "    </tr>\n",
       "  </tbody>\n",
       "</table>\n",
       "<p>5 rows × 19387 columns</p>\n",
       "</div>"
      ],
      "text/plain": [
       "     Sample_Type Primary_Site   ATG7  ATG7_1  ATG7_2  ENSG00000198888  \\\n",
       "0  Primary Tumor        Liver  4.517   3.000  2.9110          12.4955   \n",
       "1  Primary Tumor        Liver  4.487   3.022  2.2810          11.5669   \n",
       "2  Primary Tumor        Liver  4.428   3.968 -2.5480          10.5765   \n",
       "3  Primary Tumor        Liver  4.410   3.915 -0.0130          12.4415   \n",
       "4  Primary Tumor        Liver  4.323   3.952 -0.6193          11.1251   \n",
       "\n",
       "   ENSG00000198763  ENSG00000198804  ENSG00000198712  ENSG00000228253  ...  \\\n",
       "0          13.5057          13.2462          13.8849          13.3103  ...   \n",
       "1          12.1958          13.6812          13.6428          13.1039  ...   \n",
       "2          10.8512          12.6795          13.1709          12.3642  ...   \n",
       "3          12.3455          13.1002          13.0201          12.2521  ...   \n",
       "4          11.4593          12.4586          12.5747          11.8480  ...   \n",
       "\n",
       "   ENSG00000160678  ENSG00000160679  ENSG00000143553  ENSG00000214193  \\\n",
       "0           1.0642           5.1363           5.1073           1.6785   \n",
       "1           4.8238           6.9701           6.5026           0.6332   \n",
       "2           1.3167           5.7885           5.1863          -0.1993   \n",
       "3           0.9568           6.6469           6.3176           1.2394   \n",
       "4          -0.7834           5.7241           5.2552           0.3573   \n",
       "\n",
       "   ENSG00000196182  ENSG00000181817  ENSG00000116885  ENSG00000116898  \\\n",
       "0           3.8380           4.9547           0.4340           6.0792   \n",
       "1           3.9947           5.4420           2.5263           6.9790   \n",
       "2           5.1696           6.2186           1.4011           6.4933   \n",
       "3           4.4263           5.8485           3.4504           7.2433   \n",
       "4           3.8896           6.3196           1.4120           7.0125   \n",
       "\n",
       "   ENSG00000119535  ENSG00000142694  \n",
       "0           3.4477           4.6130  \n",
       "1           1.3956           4.5632  \n",
       "2           3.8837           5.5874  \n",
       "3           4.6023           4.8997  \n",
       "4           3.9608           5.0251  \n",
       "\n",
       "[5 rows x 19387 columns]"
      ]
     },
     "execution_count": 12,
     "metadata": {},
     "output_type": "execute_result"
    }
   ],
   "source": [
    "ensembl_primary_liver_atg7_proteinGE.head()"
   ]
  },
  {
   "cell_type": "code",
   "execution_count": 13,
   "metadata": {},
   "outputs": [
    {
     "name": "stdout",
     "output_type": "stream",
     "text": [
      "Normal_liver (110, 19387)\n",
      "number of genes removed: 6345\n",
      "the minimum of TPM is 2.0004\n",
      "nombre genes after removing < 5tpm (110, 13042)\n",
      "ATG7_1\n",
      "pos_spearman_corr_Normal_liver_ATG7_1 (11890, 3)\n",
      "neg_spearman_corr_Normal_liver_ATG7_1 (1149, 3)\n",
      "ATG7_2\n",
      "pos_spearman_corr_Normal_liver_ATG7_2 (9749, 3)\n",
      "neg_spearman_corr_Normal_liver_ATG7_2 (3290, 3)\n",
      "\n",
      "Primary_liver (369, 19387)\n",
      "number of genes removed: 3591\n",
      "the minimum of TPM is 2.0004\n",
      "nombre genes after removing < 5tpm (369, 15796)\n",
      "ATG7_1\n",
      "pos_spearman_corr_Primary_liver_ATG7_1 (11464, 3)\n",
      "neg_spearman_corr_Primary_liver_ATG7_1 (4329, 3)\n",
      "ATG7_2\n",
      "pos_spearman_corr_Primary_liver_ATG7_2 (13376, 3)\n",
      "neg_spearman_corr_Primary_liver_ATG7_2 (2417, 3)\n",
      "\n",
      "Wall time: 53.8 s\n"
     ]
    }
   ],
   "source": [
    "%%time\n",
    "# Spearman Correlation, all genes WITHOUT cutoff. Removed genes < 4tpm\n",
    "all_tissue_used = [[ensembl_normal_liver_atg7_proteinGE,'Normal_liver'], \n",
    "                   [ensembl_primary_liver_atg7_proteinGE,'Primary_liver']]\n",
    "\n",
    "isoforms = ['ATG7_1', 'ATG7_2']\n",
    "\n",
    "all_positiv_corr_spearman = []\n",
    "all_negativ_corr_spearman = []\n",
    "\n",
    "for tissue in all_tissue_used:\n",
    "  print(tissue[1], tissue[0].shape)\n",
    "\n",
    "  #create a new row with max() for each gene and transpose\n",
    "  tissue[0].loc['max()'] = tissue[0].max()\n",
    "  tissue[0] = tissue[0].T\n",
    "\n",
    "  #select all row where max() > 2 (= 4 tpm)\n",
    "  nb_before = tissue[0]['max()'].count()\n",
    "  tissue[0] = tissue[0].drop(tissue[0].index[0:2])\n",
    "  tissue[0] = tissue[0][tissue[0]['max()'] > 2]\n",
    "  nb_after = tissue[0]['max()'].count()\n",
    "  print(\"number of genes removed:\", nb_before-nb_after)\n",
    "  print('the minimum of TPM is', tissue[0]['max()'].min())\n",
    "  \n",
    "  #delete the column max() and tranpose back\n",
    "  tissue[0] =  tissue[0].drop('max()', axis = 1) \n",
    "  tissue[0] = tissue[0].T\n",
    "  print('nombre genes after removing < 5tpm', tissue[0].shape)\n",
    "\n",
    "  for isoform in isoforms:\n",
    "\n",
    "    genepos = []\n",
    "    geneneg = []\n",
    "    rvaluepos = []\n",
    "    rvalueneg = []\n",
    "    pvaluepos = []\n",
    "    pvalueneg = []\n",
    "\n",
    "    print(isoform)\n",
    "    x = tissue[0][isoform].to_list()\n",
    "    genes = tissue[0].columns[3:]\n",
    "\n",
    "    for gene in genes:\n",
    "      y = tissue[0][gene].to_list()\n",
    "      r_value, p_value = scipy.stats.spearmanr(x, y)\n",
    "\n",
    "      if r_value > 0:\n",
    "        genepos.append(gene)\n",
    "        rvaluepos.append(r_value)\n",
    "        pvaluepos.append(p_value)\n",
    "        \n",
    "      elif r_value < 0:\n",
    "        geneneg.append(gene)\n",
    "        rvalueneg.append(r_value)\n",
    "        pvalueneg.append(p_value)\n",
    "\n",
    "    #create a dictionnary\n",
    "    d = dict(ensembl_gene_id= genepos, r_value=rvaluepos,  p_value=pvaluepos)\n",
    "    d2 = dict(ensembl_gene_id= geneneg, r_value=rvalueneg,  p_value=pvalueneg)\n",
    "\n",
    "    #Convert to dataframe\n",
    "    df_positiv_corr = pandas.DataFrame.from_dict(d, orient='index')\n",
    "    df_negativ_corr = pandas.DataFrame.from_dict(data=d2, orient='index')\n",
    "\n",
    "    #Transpose to have a better table\n",
    "    df_positiv_corr = df_positiv_corr.transpose()\n",
    "    df_negativ_corr = df_negativ_corr.transpose()\n",
    "\n",
    "    #name\n",
    "    positiv_corr = 'pos_spearman_corr_'+tissue[1]+'_'+isoform\n",
    "    negativ_corr = 'neg_spearman_corr_'+tissue[1]+'_'+isoform\n",
    "\n",
    "    print(positiv_corr, df_positiv_corr.shape)\n",
    "    print(negativ_corr, df_negativ_corr.shape)\n",
    "\n",
    "    #scending orde, save to excel\n",
    "    df_positiv_corr['info'] = tissue[1]+'_'+isoform\n",
    "    df_positiv_corr = protein_coding_list.merge(df_positiv_corr)\n",
    "    df_positiv_corr = df_positiv_corr.drop(['entrezgene_id', 'transcript_biotype'], axis = 1)\n",
    "    df_positiv_corr = df_positiv_corr.sort_values(['r_value'], ascending = False)\n",
    "    \n",
    "    #save positive\n",
    "    path = 'ATG7/table_correlation_enrichr/all_tissue_ATG7/corr_all/'\n",
    "#     df_positiv_corr.to_excel(output_file_directory+path+positiv_corr+'.xlsx', index=False)\n",
    "    \n",
    "    df_negativ_corr['info'] = tissue[1]+'_'+isoform\n",
    "    df_negativ_corr = protein_coding_list.merge(df_negativ_corr)\n",
    "    df_negativ_corr = df_negativ_corr.drop(['entrezgene_id', 'transcript_biotype'], axis = 1)\n",
    "    df_negativ_corr = df_negativ_corr.sort_values(['r_value'], ascending = False)\n",
    "    \n",
    "    #save negative\n",
    "#     df_negativ_corr.to_excel(output_file_directory+path+negativ_corr+'.xlsx', index=False)\n",
    "\n",
    "    all_positiv_corr_spearman.append(df_positiv_corr)\n",
    "    all_negativ_corr_spearman.append(df_negativ_corr)\n",
    "  print()"
   ]
  },
  {
   "cell_type": "markdown",
   "metadata": {},
   "source": [
    "## 2) Distribution of all rvalue to select cutoffif we need one"
   ]
  },
  {
   "cell_type": "code",
   "execution_count": 14,
   "metadata": {},
   "outputs": [
    {
     "name": "stdout",
     "output_type": "stream",
     "text": [
      "Normal liver, ATG7(1)\n",
      "shape positiv (1155, 5)\n",
      "shape negativ (11962, 5)\n",
      "shape after merge (13117, 5)\n",
      "\n",
      "Normal liver, ATG7(2)\n",
      "shape positiv (3309, 5)\n",
      "shape negativ (9808, 5)\n",
      "shape after merge (13117, 5)\n",
      "\n",
      "Primary liver, ATG7(1)\n",
      "shape positiv (4352, 5)\n",
      "shape negativ (11544, 5)\n",
      "shape after merge (15896, 5)\n",
      "\n",
      "Primary liver, ATG7(2)\n",
      "shape positiv (2438, 5)\n",
      "shape negativ (13458, 5)\n",
      "shape after merge (15896, 5)\n",
      "\n",
      "Wall time: 20 ms\n"
     ]
    },
    {
     "data": {
      "text/html": [
       "<div>\n",
       "<style scoped>\n",
       "    .dataframe tbody tr th:only-of-type {\n",
       "        vertical-align: middle;\n",
       "    }\n",
       "\n",
       "    .dataframe tbody tr th {\n",
       "        vertical-align: top;\n",
       "    }\n",
       "\n",
       "    .dataframe thead th {\n",
       "        text-align: right;\n",
       "    }\n",
       "</style>\n",
       "<table border=\"1\" class=\"dataframe\">\n",
       "  <thead>\n",
       "    <tr style=\"text-align: right;\">\n",
       "      <th></th>\n",
       "      <th>ensembl_gene_id</th>\n",
       "      <th>hgnc_symbol</th>\n",
       "      <th>r_value</th>\n",
       "      <th>p_value</th>\n",
       "      <th>info</th>\n",
       "    </tr>\n",
       "  </thead>\n",
       "  <tbody>\n",
       "    <tr>\n",
       "      <th>0</th>\n",
       "      <td>ENSG00000115648</td>\n",
       "      <td>MLPH</td>\n",
       "      <td>-3.24789e-05</td>\n",
       "      <td>0.999731</td>\n",
       "      <td>Normal_liver_ATG7_2</td>\n",
       "    </tr>\n",
       "    <tr>\n",
       "      <th>1</th>\n",
       "      <td>ENSG00000184058</td>\n",
       "      <td>TBX1</td>\n",
       "      <td>-9.05722e-05</td>\n",
       "      <td>0.999251</td>\n",
       "      <td>Normal_liver_ATG7_2</td>\n",
       "    </tr>\n",
       "    <tr>\n",
       "      <th>2</th>\n",
       "      <td>ENSG00000140876</td>\n",
       "      <td>NUDT7</td>\n",
       "      <td>-0.000482544</td>\n",
       "      <td>0.996008</td>\n",
       "      <td>Normal_liver_ATG7_2</td>\n",
       "    </tr>\n",
       "    <tr>\n",
       "      <th>3</th>\n",
       "      <td>ENSG00000117448</td>\n",
       "      <td>AKR1A1</td>\n",
       "      <td>-0.00055678</td>\n",
       "      <td>0.995394</td>\n",
       "      <td>Normal_liver_ATG7_2</td>\n",
       "    </tr>\n",
       "    <tr>\n",
       "      <th>4</th>\n",
       "      <td>ENSG00000119508</td>\n",
       "      <td>NR4A3</td>\n",
       "      <td>-0.000633481</td>\n",
       "      <td>0.994759</td>\n",
       "      <td>Normal_liver_ATG7_2</td>\n",
       "    </tr>\n",
       "    <tr>\n",
       "      <th>...</th>\n",
       "      <td>...</td>\n",
       "      <td>...</td>\n",
       "      <td>...</td>\n",
       "      <td>...</td>\n",
       "      <td>...</td>\n",
       "    </tr>\n",
       "    <tr>\n",
       "      <th>13112</th>\n",
       "      <td>ENSG00000099797</td>\n",
       "      <td>TECR</td>\n",
       "      <td>0.000338708</td>\n",
       "      <td>0.997198</td>\n",
       "      <td>Normal_liver_ATG7_2</td>\n",
       "    </tr>\n",
       "    <tr>\n",
       "      <th>13113</th>\n",
       "      <td>ENSG00000120049</td>\n",
       "      <td>KCNIP2</td>\n",
       "      <td>0.000329463</td>\n",
       "      <td>0.997274</td>\n",
       "      <td>Normal_liver_ATG7_2</td>\n",
       "    </tr>\n",
       "    <tr>\n",
       "      <th>13114</th>\n",
       "      <td>ENSG00000155287</td>\n",
       "      <td>SLC25A28</td>\n",
       "      <td>0.000215753</td>\n",
       "      <td>0.998215</td>\n",
       "      <td>Normal_liver_ATG7_2</td>\n",
       "    </tr>\n",
       "    <tr>\n",
       "      <th>13115</th>\n",
       "      <td>ENSG00000154079</td>\n",
       "      <td>SDHAF4</td>\n",
       "      <td>0.000204161</td>\n",
       "      <td>0.998311</td>\n",
       "      <td>Normal_liver_ATG7_2</td>\n",
       "    </tr>\n",
       "    <tr>\n",
       "      <th>13116</th>\n",
       "      <td>ENSG00000106479</td>\n",
       "      <td>ZNF862</td>\n",
       "      <td>2.55193e-05</td>\n",
       "      <td>0.999789</td>\n",
       "      <td>Normal_liver_ATG7_2</td>\n",
       "    </tr>\n",
       "  </tbody>\n",
       "</table>\n",
       "<p>13117 rows × 5 columns</p>\n",
       "</div>"
      ],
      "text/plain": [
       "       ensembl_gene_id hgnc_symbol      r_value   p_value                 info\n",
       "0      ENSG00000115648        MLPH -3.24789e-05  0.999731  Normal_liver_ATG7_2\n",
       "1      ENSG00000184058        TBX1 -9.05722e-05  0.999251  Normal_liver_ATG7_2\n",
       "2      ENSG00000140876       NUDT7 -0.000482544  0.996008  Normal_liver_ATG7_2\n",
       "3      ENSG00000117448      AKR1A1  -0.00055678  0.995394  Normal_liver_ATG7_2\n",
       "4      ENSG00000119508       NR4A3 -0.000633481  0.994759  Normal_liver_ATG7_2\n",
       "...                ...         ...          ...       ...                  ...\n",
       "13112  ENSG00000099797        TECR  0.000338708  0.997198  Normal_liver_ATG7_2\n",
       "13113  ENSG00000120049      KCNIP2  0.000329463  0.997274  Normal_liver_ATG7_2\n",
       "13114  ENSG00000155287    SLC25A28  0.000215753  0.998215  Normal_liver_ATG7_2\n",
       "13115  ENSG00000154079      SDHAF4  0.000204161  0.998311  Normal_liver_ATG7_2\n",
       "13116  ENSG00000106479      ZNF862  2.55193e-05  0.999789  Normal_liver_ATG7_2\n",
       "\n",
       "[13117 rows x 5 columns]"
      ]
     },
     "execution_count": 14,
     "metadata": {},
     "output_type": "execute_result"
    }
   ],
   "source": [
    "%%time\n",
    "#Merge Negative and Positive data\n",
    "data =  [\n",
    "         [all_negativ_corr_spearman[0], all_positiv_corr_spearman[0], 'Normal liver, ATG7(1)'], \n",
    "         [all_negativ_corr_spearman[1], all_positiv_corr_spearman[1], 'Normal liver, ATG7(2)'],\n",
    "         [all_negativ_corr_spearman[2], all_positiv_corr_spearman[2], 'Primary liver, ATG7(1)'], \n",
    "         [all_negativ_corr_spearman[3], all_positiv_corr_spearman[3], 'Primary liver, ATG7(2)']\n",
    "         ]\n",
    "\n",
    "all_corr_negpos_merged = []\n",
    "for dfs in data:\n",
    "  print(dfs[2])\n",
    "  print('shape positiv', dfs[0].shape)\n",
    "  print('shape negativ', dfs[1].shape)\n",
    "\n",
    "  df_merged = pandas.concat([dfs[0], dfs[1]], axis=0)\n",
    "  df_merged = df_merged.reset_index(drop = True)\n",
    "  print('shape after merge', df_merged.shape)\n",
    "  all_corr_negpos_merged.append(df_merged)\n",
    "  print()\n",
    "\n",
    "all_corr_negpos_merged[1]"
   ]
  },
  {
   "cell_type": "code",
   "execution_count": 15,
   "metadata": {},
   "outputs": [
    {
     "name": "stderr",
     "output_type": "stream",
     "text": [
      "findfont: Font family ['FreeSans'] not found. Falling back to DejaVu Sans.\n"
     ]
    },
    {
     "name": "stdout",
     "output_type": "stream",
     "text": [
      "shape normal (13117, 5)\n",
      "shape primary (13117, 5)\n",
      "shape after merge (26234, 5)\n",
      "\n",
      "shape normal (15896, 5)\n",
      "shape primary (15896, 5)\n",
      "shape after merge (31792, 5)\n",
      "\n"
     ]
    },
    {
     "name": "stderr",
     "output_type": "stream",
     "text": [
      "findfont: Font family ['FreeSans'] not found. Falling back to DejaVu Sans.\n",
      "findfont: Font family ['FreeSans'] not found. Falling back to DejaVu Sans.\n"
     ]
    },
    {
     "data": {
      "image/png": "[encoded data removed]",
      "text/plain": [
       "<Figure size 1220.25x360 with 1 Axes>"
      ]
     },
     "metadata": {
      "needs_background": "light"
     },
     "output_type": "display_data"
    },
    {
     "name": "stdout",
     "output_type": "stream",
     "text": [
      "\n"
     ]
    },
    {
     "data": {
      "text/plain": [
       "<Figure size 864x576 with 0 Axes>"
      ]
     },
     "metadata": {},
     "output_type": "display_data"
    },
    {
     "data": {
      "image/png": "[encoded data removed]",
      "text/plain": [
       "<Figure size 1225.25x360 with 1 Axes>"
      ]
     },
     "metadata": {
      "needs_background": "light"
     },
     "output_type": "display_data"
    },
    {
     "name": "stdout",
     "output_type": "stream",
     "text": [
      "\n"
     ]
    },
    {
     "data": {
      "text/plain": [
       "<Figure size 864x576 with 0 Axes>"
      ]
     },
     "metadata": {},
     "output_type": "display_data"
    }
   ],
   "source": [
    "#Merge ATG7(1) and ATG7(2)\n",
    "data = [\n",
    "        [all_corr_negpos_merged[0], all_corr_negpos_merged[1], 'Normal liver'],\n",
    "        [all_corr_negpos_merged[2], all_corr_negpos_merged[3], 'Primary liver']\n",
    "        ]\n",
    "\n",
    "all_corr_isoforms_merged = []\n",
    "for dfs in data:\n",
    "  print('shape normal', dfs[0].shape)\n",
    "  print('shape primary', dfs[1].shape)\n",
    "\n",
    "  df_merged = pandas.concat([dfs[0], dfs[1]], axis=0)\n",
    "  df_merged = df_merged.reset_index(drop = True)\n",
    "  print('shape after merge', df_merged.shape)\n",
    "  all_corr_isoforms_merged.append(df_merged)\n",
    "  print()\n",
    "\n",
    "#Distribution of correlation\n",
    "data = [\n",
    "        [all_corr_isoforms_merged[0], 'Normal liver'],\n",
    "        [all_corr_isoforms_merged[1], 'Primary liver']\n",
    "        ]\n",
    "\n",
    "for dfs in data:\n",
    "  seaborn.displot(dfs[0], x=\"r_value\", hue='info', aspect = 2.6)\n",
    "  label_title = 'Distribution of correlation in ' + dfs[1]\n",
    "  plt.title(label_title, fontsize = 22)\n",
    "  plt.show()\n",
    "  plt.clf()\n",
    "  print()"
   ]
  },
  {
   "cell_type": "markdown",
   "metadata": {},
   "source": [
    "## 3) Selection of the 1% in extremities to see the top results"
   ]
  },
  {
   "cell_type": "code",
   "execution_count": 16,
   "metadata": {
    "scrolled": true
   },
   "outputs": [
    {
     "data": {
      "text/html": [
       "<div>\n",
       "<style scoped>\n",
       "    .dataframe tbody tr th:only-of-type {\n",
       "        vertical-align: middle;\n",
       "    }\n",
       "\n",
       "    .dataframe tbody tr th {\n",
       "        vertical-align: top;\n",
       "    }\n",
       "\n",
       "    .dataframe thead th {\n",
       "        text-align: right;\n",
       "    }\n",
       "</style>\n",
       "<table border=\"1\" class=\"dataframe\">\n",
       "  <thead>\n",
       "    <tr style=\"text-align: right;\">\n",
       "      <th></th>\n",
       "      <th>index</th>\n",
       "      <th>ensembl_gene_id</th>\n",
       "      <th>hgnc_symbol</th>\n",
       "      <th>r_value</th>\n",
       "      <th>p_value</th>\n",
       "      <th>info</th>\n",
       "    </tr>\n",
       "  </thead>\n",
       "  <tbody>\n",
       "    <tr>\n",
       "      <th>0</th>\n",
       "      <td>0</td>\n",
       "      <td>ENSG00000114030</td>\n",
       "      <td>KPNA1</td>\n",
       "      <td>0.753042</td>\n",
       "      <td>1.05626e-68</td>\n",
       "      <td>Primary_liver_ATG7_2</td>\n",
       "    </tr>\n",
       "    <tr>\n",
       "      <th>1</th>\n",
       "      <td>1</td>\n",
       "      <td>ENSG00000164219</td>\n",
       "      <td>PGGT1B</td>\n",
       "      <td>0.744521</td>\n",
       "      <td>2.20659e-66</td>\n",
       "      <td>Primary_liver_ATG7_2</td>\n",
       "    </tr>\n",
       "    <tr>\n",
       "      <th>2</th>\n",
       "      <td>2</td>\n",
       "      <td>ENSG00000037749</td>\n",
       "      <td>MFAP3</td>\n",
       "      <td>0.742706</td>\n",
       "      <td>6.70089e-66</td>\n",
       "      <td>Primary_liver_ATG7_2</td>\n",
       "    </tr>\n",
       "    <tr>\n",
       "      <th>3</th>\n",
       "      <td>3</td>\n",
       "      <td>ENSG00000269955</td>\n",
       "      <td>FMC1-LUC7L2</td>\n",
       "      <td>0.735637</td>\n",
       "      <td>4.63659e-64</td>\n",
       "      <td>Primary_liver_ATG7_2</td>\n",
       "    </tr>\n",
       "    <tr>\n",
       "      <th>4</th>\n",
       "      <td>4</td>\n",
       "      <td>ENSG00000198836</td>\n",
       "      <td>OPA1</td>\n",
       "      <td>0.720754</td>\n",
       "      <td>2.25661e-60</td>\n",
       "      <td>Primary_liver_ATG7_2</td>\n",
       "    </tr>\n",
       "    <tr>\n",
       "      <th>...</th>\n",
       "      <td>...</td>\n",
       "      <td>...</td>\n",
       "      <td>...</td>\n",
       "      <td>...</td>\n",
       "      <td>...</td>\n",
       "      <td>...</td>\n",
       "    </tr>\n",
       "    <tr>\n",
       "      <th>311</th>\n",
       "      <td>15891</td>\n",
       "      <td>ENSG00000256514</td>\n",
       "      <td>NaN</td>\n",
       "      <td>-0.541638</td>\n",
       "      <td>1.61955e-29</td>\n",
       "      <td>Primary_liver_ATG7_2</td>\n",
       "    </tr>\n",
       "    <tr>\n",
       "      <th>312</th>\n",
       "      <td>15892</td>\n",
       "      <td>ENSG00000139351</td>\n",
       "      <td>SYCP3</td>\n",
       "      <td>-0.551428</td>\n",
       "      <td>9.6747e-31</td>\n",
       "      <td>Primary_liver_ATG7_2</td>\n",
       "    </tr>\n",
       "    <tr>\n",
       "      <th>313</th>\n",
       "      <td>15893</td>\n",
       "      <td>ENSG00000148826</td>\n",
       "      <td>NKX6-2</td>\n",
       "      <td>-0.560033</td>\n",
       "      <td>7.52008e-32</td>\n",
       "      <td>Primary_liver_ATG7_2</td>\n",
       "    </tr>\n",
       "    <tr>\n",
       "      <th>314</th>\n",
       "      <td>15894</td>\n",
       "      <td>ENSG00000183260</td>\n",
       "      <td>ABHD16B</td>\n",
       "      <td>-0.582364</td>\n",
       "      <td>6.93525e-35</td>\n",
       "      <td>Primary_liver_ATG7_2</td>\n",
       "    </tr>\n",
       "    <tr>\n",
       "      <th>315</th>\n",
       "      <td>15895</td>\n",
       "      <td>ENSG00000265303</td>\n",
       "      <td>NaN</td>\n",
       "      <td>-0.677116</td>\n",
       "      <td>8.02878e-51</td>\n",
       "      <td>Primary_liver_ATG7_2</td>\n",
       "    </tr>\n",
       "  </tbody>\n",
       "</table>\n",
       "<p>316 rows × 6 columns</p>\n",
       "</div>"
      ],
      "text/plain": [
       "     index  ensembl_gene_id  hgnc_symbol   r_value      p_value  \\\n",
       "0        0  ENSG00000114030        KPNA1  0.753042  1.05626e-68   \n",
       "1        1  ENSG00000164219       PGGT1B  0.744521  2.20659e-66   \n",
       "2        2  ENSG00000037749        MFAP3  0.742706  6.70089e-66   \n",
       "3        3  ENSG00000269955  FMC1-LUC7L2  0.735637  4.63659e-64   \n",
       "4        4  ENSG00000198836         OPA1  0.720754  2.25661e-60   \n",
       "..     ...              ...          ...       ...          ...   \n",
       "311  15891  ENSG00000256514          NaN -0.541638  1.61955e-29   \n",
       "312  15892  ENSG00000139351        SYCP3 -0.551428   9.6747e-31   \n",
       "313  15893  ENSG00000148826       NKX6-2 -0.560033  7.52008e-32   \n",
       "314  15894  ENSG00000183260      ABHD16B -0.582364  6.93525e-35   \n",
       "315  15895  ENSG00000265303          NaN -0.677116  8.02878e-51   \n",
       "\n",
       "                     info  \n",
       "0    Primary_liver_ATG7_2  \n",
       "1    Primary_liver_ATG7_2  \n",
       "2    Primary_liver_ATG7_2  \n",
       "3    Primary_liver_ATG7_2  \n",
       "4    Primary_liver_ATG7_2  \n",
       "..                    ...  \n",
       "311  Primary_liver_ATG7_2  \n",
       "312  Primary_liver_ATG7_2  \n",
       "313  Primary_liver_ATG7_2  \n",
       "314  Primary_liver_ATG7_2  \n",
       "315  Primary_liver_ATG7_2  \n",
       "\n",
       "[316 rows x 6 columns]"
      ]
     },
     "execution_count": 16,
     "metadata": {},
     "output_type": "execute_result"
    }
   ],
   "source": [
    "# have to select the 1% in extremities to have only the interesting one.\n",
    "## all_corr_negpos_merged = norm iso1, norm iso2, prim iso1, prim iso2\n",
    "\n",
    "all_corr_negpos_extremities = []\n",
    "\n",
    "for df in all_corr_negpos_merged:\n",
    "  df = df.sort_values(['r_value'], ascending = False)\n",
    "  df = df.reset_index(drop = True)\n",
    "  \n",
    "  lenght = len(df)\n",
    "  only_1perc = int(lenght*0.01)\n",
    "  just_head = only_1perc\n",
    "  just_tail = lenght - only_1perc\n",
    "\n",
    "  df_head = df.iloc[0:just_head,:]\n",
    "  df_tail = df.iloc[just_tail:,:]\n",
    "  df_extremeties = pandas.concat([df_head, df_tail], axis=0)\n",
    "  df_extremeties.reset_index(inplace=True)\n",
    "\n",
    "  inform = df['info'][1]\n",
    "  extremities_name = 'LIHC_corr_1%extremities'+ '_' +inform\n",
    "    \n",
    "    #save\n",
    "  path = 'ATG7/TCGA_GTEX/liver/correlation/'\n",
    "#   df_extremeties.to_excel(output_file_directory+path+extremities_name+'.xlsx', index=False)\n",
    "\n",
    "  all_corr_negpos_extremities.append(df_extremeties)\n",
    "    \n",
    "all_corr_negpos_extremities[3]"
   ]
  },
  {
   "cell_type": "markdown",
   "metadata": {},
   "source": [
    "# V] Venn diagrams"
   ]
  },
  {
   "cell_type": "code",
   "execution_count": 17,
   "metadata": {
    "scrolled": true
   },
   "outputs": [
    {
     "data": {
      "text/html": [
       "<div>\n",
       "<style scoped>\n",
       "    .dataframe tbody tr th:only-of-type {\n",
       "        vertical-align: middle;\n",
       "    }\n",
       "\n",
       "    .dataframe tbody tr th {\n",
       "        vertical-align: top;\n",
       "    }\n",
       "\n",
       "    .dataframe thead th {\n",
       "        text-align: right;\n",
       "    }\n",
       "</style>\n",
       "<table border=\"1\" class=\"dataframe\">\n",
       "  <thead>\n",
       "    <tr style=\"text-align: right;\">\n",
       "      <th></th>\n",
       "      <th>index</th>\n",
       "      <th>ensembl_gene_id</th>\n",
       "      <th>hgnc_symbol</th>\n",
       "      <th>r_value</th>\n",
       "      <th>p_value</th>\n",
       "      <th>info</th>\n",
       "    </tr>\n",
       "  </thead>\n",
       "  <tbody>\n",
       "    <tr>\n",
       "      <th>0</th>\n",
       "      <td>0</td>\n",
       "      <td>ENSG00000104979</td>\n",
       "      <td>C19orf53</td>\n",
       "      <td>0.739929</td>\n",
       "      <td>2.60296e-20</td>\n",
       "      <td>Normal_liver_ATG7_1</td>\n",
       "    </tr>\n",
       "    <tr>\n",
       "      <th>1</th>\n",
       "      <td>1</td>\n",
       "      <td>ENSG00000170296</td>\n",
       "      <td>GABARAP</td>\n",
       "      <td>0.730256</td>\n",
       "      <td>1.40199e-19</td>\n",
       "      <td>Normal_liver_ATG7_1</td>\n",
       "    </tr>\n",
       "    <tr>\n",
       "      <th>2</th>\n",
       "      <td>2</td>\n",
       "      <td>ENSG00000124357</td>\n",
       "      <td>NAGK</td>\n",
       "      <td>0.729068</td>\n",
       "      <td>1.71528e-19</td>\n",
       "      <td>Normal_liver_ATG7_1</td>\n",
       "    </tr>\n",
       "    <tr>\n",
       "      <th>3</th>\n",
       "      <td>3</td>\n",
       "      <td>ENSG00000167770</td>\n",
       "      <td>OTUB1</td>\n",
       "      <td>0.72825</td>\n",
       "      <td>1.96977e-19</td>\n",
       "      <td>Normal_liver_ATG7_1</td>\n",
       "    </tr>\n",
       "    <tr>\n",
       "      <th>4</th>\n",
       "      <td>4</td>\n",
       "      <td>ENSG00000135622</td>\n",
       "      <td>SEMA4F</td>\n",
       "      <td>0.725058</td>\n",
       "      <td>3.36342e-19</td>\n",
       "      <td>Normal_liver_ATG7_1</td>\n",
       "    </tr>\n",
       "    <tr>\n",
       "      <th>...</th>\n",
       "      <td>...</td>\n",
       "      <td>...</td>\n",
       "      <td>...</td>\n",
       "      <td>...</td>\n",
       "      <td>...</td>\n",
       "      <td>...</td>\n",
       "    </tr>\n",
       "    <tr>\n",
       "      <th>257</th>\n",
       "      <td>13112</td>\n",
       "      <td>ENSG00000198888</td>\n",
       "      <td>MT-ND1</td>\n",
       "      <td>-0.4937</td>\n",
       "      <td>4.2413e-08</td>\n",
       "      <td>Normal_liver_ATG7_1</td>\n",
       "    </tr>\n",
       "    <tr>\n",
       "      <th>258</th>\n",
       "      <td>13113</td>\n",
       "      <td>ENSG00000198899</td>\n",
       "      <td>MT-ATP6</td>\n",
       "      <td>-0.499963</td>\n",
       "      <td>2.68295e-08</td>\n",
       "      <td>Normal_liver_ATG7_1</td>\n",
       "    </tr>\n",
       "    <tr>\n",
       "      <th>259</th>\n",
       "      <td>13114</td>\n",
       "      <td>ENSG00000212907</td>\n",
       "      <td>MT-ND4L</td>\n",
       "      <td>-0.502289</td>\n",
       "      <td>2.25791e-08</td>\n",
       "      <td>Normal_liver_ATG7_1</td>\n",
       "    </tr>\n",
       "    <tr>\n",
       "      <th>260</th>\n",
       "      <td>13115</td>\n",
       "      <td>ENSG00000198712</td>\n",
       "      <td>MT-CO2</td>\n",
       "      <td>-0.523254</td>\n",
       "      <td>4.49567e-09</td>\n",
       "      <td>Normal_liver_ATG7_1</td>\n",
       "    </tr>\n",
       "    <tr>\n",
       "      <th>261</th>\n",
       "      <td>13116</td>\n",
       "      <td>ENSG00000228253</td>\n",
       "      <td>MT-ATP8</td>\n",
       "      <td>-0.536752</td>\n",
       "      <td>1.49872e-09</td>\n",
       "      <td>Normal_liver_ATG7_1</td>\n",
       "    </tr>\n",
       "  </tbody>\n",
       "</table>\n",
       "<p>262 rows × 6 columns</p>\n",
       "</div>"
      ],
      "text/plain": [
       "     index  ensembl_gene_id hgnc_symbol   r_value      p_value  \\\n",
       "0        0  ENSG00000104979    C19orf53  0.739929  2.60296e-20   \n",
       "1        1  ENSG00000170296     GABARAP  0.730256  1.40199e-19   \n",
       "2        2  ENSG00000124357        NAGK  0.729068  1.71528e-19   \n",
       "3        3  ENSG00000167770       OTUB1   0.72825  1.96977e-19   \n",
       "4        4  ENSG00000135622      SEMA4F  0.725058  3.36342e-19   \n",
       "..     ...              ...         ...       ...          ...   \n",
       "257  13112  ENSG00000198888      MT-ND1   -0.4937   4.2413e-08   \n",
       "258  13113  ENSG00000198899     MT-ATP6 -0.499963  2.68295e-08   \n",
       "259  13114  ENSG00000212907     MT-ND4L -0.502289  2.25791e-08   \n",
       "260  13115  ENSG00000198712      MT-CO2 -0.523254  4.49567e-09   \n",
       "261  13116  ENSG00000228253     MT-ATP8 -0.536752  1.49872e-09   \n",
       "\n",
       "                    info  \n",
       "0    Normal_liver_ATG7_1  \n",
       "1    Normal_liver_ATG7_1  \n",
       "2    Normal_liver_ATG7_1  \n",
       "3    Normal_liver_ATG7_1  \n",
       "4    Normal_liver_ATG7_1  \n",
       "..                   ...  \n",
       "257  Normal_liver_ATG7_1  \n",
       "258  Normal_liver_ATG7_1  \n",
       "259  Normal_liver_ATG7_1  \n",
       "260  Normal_liver_ATG7_1  \n",
       "261  Normal_liver_ATG7_1  \n",
       "\n",
       "[262 rows x 6 columns]"
      ]
     },
     "execution_count": 17,
     "metadata": {},
     "output_type": "execute_result"
    }
   ],
   "source": [
    "all_corr_negpos_extremities[0]"
   ]
  },
  {
   "cell_type": "code",
   "execution_count": 18,
   "metadata": {},
   "outputs": [
    {
     "name": "stdout",
     "output_type": "stream",
     "text": [
      "4\n"
     ]
    },
    {
     "data": {
      "text/html": [
       "<div>\n",
       "<style scoped>\n",
       "    .dataframe tbody tr th:only-of-type {\n",
       "        vertical-align: middle;\n",
       "    }\n",
       "\n",
       "    .dataframe tbody tr th {\n",
       "        vertical-align: top;\n",
       "    }\n",
       "\n",
       "    .dataframe thead th {\n",
       "        text-align: right;\n",
       "    }\n",
       "</style>\n",
       "<table border=\"1\" class=\"dataframe\">\n",
       "  <thead>\n",
       "    <tr style=\"text-align: right;\">\n",
       "      <th></th>\n",
       "      <th>index</th>\n",
       "      <th>ensembl_gene_id</th>\n",
       "      <th>hgnc_symbol</th>\n",
       "      <th>r_value</th>\n",
       "      <th>p_value</th>\n",
       "      <th>info</th>\n",
       "    </tr>\n",
       "  </thead>\n",
       "  <tbody>\n",
       "    <tr>\n",
       "      <th>131</th>\n",
       "      <td>12986</td>\n",
       "      <td>ENSG00000166819</td>\n",
       "      <td>PLIN1</td>\n",
       "      <td>-0.287625</td>\n",
       "      <td>0.00231267</td>\n",
       "      <td>Normal_liver_ATG7_1</td>\n",
       "    </tr>\n",
       "    <tr>\n",
       "      <th>132</th>\n",
       "      <td>12987</td>\n",
       "      <td>ENSG00000187017</td>\n",
       "      <td>ESPN</td>\n",
       "      <td>-0.289324</td>\n",
       "      <td>0.00217206</td>\n",
       "      <td>Normal_liver_ATG7_1</td>\n",
       "    </tr>\n",
       "    <tr>\n",
       "      <th>133</th>\n",
       "      <td>12988</td>\n",
       "      <td>ENSG00000243710</td>\n",
       "      <td>CFAP57</td>\n",
       "      <td>-0.290161</td>\n",
       "      <td>0.00210568</td>\n",
       "      <td>Normal_liver_ATG7_1</td>\n",
       "    </tr>\n",
       "    <tr>\n",
       "      <th>134</th>\n",
       "      <td>12989</td>\n",
       "      <td>ENSG00000197165</td>\n",
       "      <td>SULT1A2</td>\n",
       "      <td>-0.291035</td>\n",
       "      <td>0.00203831</td>\n",
       "      <td>Normal_liver_ATG7_1</td>\n",
       "    </tr>\n",
       "    <tr>\n",
       "      <th>135</th>\n",
       "      <td>12990</td>\n",
       "      <td>ENSG00000129151</td>\n",
       "      <td>BBOX1</td>\n",
       "      <td>-0.292329</td>\n",
       "      <td>0.00194216</td>\n",
       "      <td>Normal_liver_ATG7_1</td>\n",
       "    </tr>\n",
       "  </tbody>\n",
       "</table>\n",
       "</div>"
      ],
      "text/plain": [
       "     index  ensembl_gene_id hgnc_symbol   r_value     p_value  \\\n",
       "131  12986  ENSG00000166819       PLIN1 -0.287625  0.00231267   \n",
       "132  12987  ENSG00000187017        ESPN -0.289324  0.00217206   \n",
       "133  12988  ENSG00000243710      CFAP57 -0.290161  0.00210568   \n",
       "134  12989  ENSG00000197165     SULT1A2 -0.291035  0.00203831   \n",
       "135  12990  ENSG00000129151       BBOX1 -0.292329  0.00194216   \n",
       "\n",
       "                    info  \n",
       "131  Normal_liver_ATG7_1  \n",
       "132  Normal_liver_ATG7_1  \n",
       "133  Normal_liver_ATG7_1  \n",
       "134  Normal_liver_ATG7_1  \n",
       "135  Normal_liver_ATG7_1  "
      ]
     },
     "execution_count": 18,
     "metadata": {},
     "output_type": "execute_result"
    }
   ],
   "source": [
    "#separate pos and neg correlation\n",
    "all_corr_positiv_extremities = []\n",
    "all_corr_negativ_extremities = []\n",
    "\n",
    "for df in all_corr_negpos_extremities:\n",
    "    data_pos = df[df['r_value']>0]\n",
    "    data_neg = df[df['r_value']<0]\n",
    "    all_corr_positiv_extremities.append(data_pos)\n",
    "    all_corr_negativ_extremities.append(data_neg)\n",
    "print(len(all_corr_positiv_extremities))\n",
    "all_corr_negativ_extremities[0].head()"
   ]
  },
  {
   "cell_type": "markdown",
   "metadata": {},
   "source": [
    "## 1) Venn diagrams of correlation of all the genes"
   ]
  },
  {
   "cell_type": "code",
   "execution_count": 19,
   "metadata": {},
   "outputs": [
    {
     "name": "stderr",
     "output_type": "stream",
     "text": [
      "findfont: Font family ['FreeSans'] not found. Falling back to DejaVu Sans.\n"
     ]
    },
    {
     "data": {
      "image/png": "[encoded data removed]",
      "text/plain": [
       "<Figure size 864x576 with 1 Axes>"
      ]
     },
     "metadata": {},
     "output_type": "display_data"
    },
    {
     "name": "stdout",
     "output_type": "stream",
     "text": [
      "\n"
     ]
    },
    {
     "data": {
      "image/png": "[encoded data removed]",
      "text/plain": [
       "<Figure size 864x576 with 1 Axes>"
      ]
     },
     "metadata": {},
     "output_type": "display_data"
    },
    {
     "name": "stdout",
     "output_type": "stream",
     "text": [
      "\n"
     ]
    },
    {
     "data": {
      "image/png": "[encoded data removed]",
      "text/plain": [
       "<Figure size 864x576 with 1 Axes>"
      ]
     },
     "metadata": {},
     "output_type": "display_data"
    },
    {
     "name": "stdout",
     "output_type": "stream",
     "text": [
      "\n"
     ]
    },
    {
     "data": {
      "image/png": "[encoded data removed]",
      "text/plain": [
       "<Figure size 864x576 with 1 Axes>"
      ]
     },
     "metadata": {},
     "output_type": "display_data"
    },
    {
     "name": "stdout",
     "output_type": "stream",
     "text": [
      "\n"
     ]
    },
    {
     "data": {
      "text/plain": [
       "<Figure size 864x576 with 0 Axes>"
      ]
     },
     "metadata": {},
     "output_type": "display_data"
    }
   ],
   "source": [
    "#VENN DIAGRAMS ATG7(1) vs ATG7(2) For the 100% of the genes\n",
    "data_pos =  [\n",
    "         [all_positiv_corr_spearman[0], all_positiv_corr_spearman[1], 'Normal liver', 'positive'], \n",
    "         [all_positiv_corr_spearman[2], all_positiv_corr_spearman[3], 'Primary liver', 'positive']\n",
    "         ]\n",
    "\n",
    "data_neg =  [\n",
    "         [all_negativ_corr_spearman[0], all_negativ_corr_spearman[1], 'Normal liver', 'negative'], \n",
    "         [all_negativ_corr_spearman[2], all_negativ_corr_spearman[3], 'Primary liver', 'negative']\n",
    "         ]\n",
    "\n",
    "data = data_pos + data_neg\n",
    "\n",
    "list_only1 = []\n",
    "list_only2 = []\n",
    "\n",
    "for dfs in data:\n",
    "  set1 = set(dfs[0]['ensembl_gene_id'])\n",
    "  set2 = set(dfs[1]['ensembl_gene_id'])\n",
    "  subset = (set1, set2)\n",
    "\n",
    "  #just to save some results in list\n",
    "  with_only1 = set2.symmetric_difference(set1) & set1\n",
    "  list_only1.append(with_only1)\n",
    "\n",
    "  with_only2 = set2.symmetric_difference(set1) & set2\n",
    "  list_only2.append(with_only2)\n",
    "\n",
    "  #Venn Diagram\n",
    "  venn2(subset, set_labels=('ATG7(1)', 'ATG7(2)'), set_colors=('grey', 'darksalmon'))\n",
    "  label_title = dfs[2] + ' ' + dfs[3]\n",
    "  plt.title(label_title)\n",
    "  plt.show()\n",
    "  plt.clf()\n",
    "  print()"
   ]
  },
  {
   "cell_type": "markdown",
   "metadata": {},
   "source": [
    "## 2) Venn diagrams of the 1% the most correlated genes with the two isoforms for each tissue"
   ]
  },
  {
   "cell_type": "code",
   "execution_count": 20,
   "metadata": {},
   "outputs": [
    {
     "data": {
      "image/png": "[encoded data removed]",
      "text/plain": [
       "<Figure size 864x576 with 1 Axes>"
      ]
     },
     "metadata": {},
     "output_type": "display_data"
    },
    {
     "name": "stdout",
     "output_type": "stream",
     "text": [
      "\n"
     ]
    },
    {
     "data": {
      "image/png": "[encoded data removed]",
      "text/plain": [
       "<Figure size 864x576 with 1 Axes>"
      ]
     },
     "metadata": {},
     "output_type": "display_data"
    },
    {
     "name": "stdout",
     "output_type": "stream",
     "text": [
      "\n"
     ]
    },
    {
     "data": {
      "image/png": "[encoded data removed]",
      "text/plain": [
       "<Figure size 864x576 with 1 Axes>"
      ]
     },
     "metadata": {},
     "output_type": "display_data"
    },
    {
     "name": "stdout",
     "output_type": "stream",
     "text": [
      "\n"
     ]
    },
    {
     "data": {
      "image/png": "[encoded data removed]",
      "text/plain": [
       "<Figure size 864x576 with 1 Axes>"
      ]
     },
     "metadata": {},
     "output_type": "display_data"
    },
    {
     "name": "stdout",
     "output_type": "stream",
     "text": [
      "\n"
     ]
    },
    {
     "data": {
      "text/plain": [
       "<Figure size 864x576 with 0 Axes>"
      ]
     },
     "metadata": {},
     "output_type": "display_data"
    }
   ],
   "source": [
    "#VENN DIAGRAMS ATG7(1)vs ATG7(2) FOR the 1% of the genes the most correlated\n",
    "data_pos =  [\n",
    "         [all_corr_positiv_extremities[0], all_corr_positiv_extremities[1], 'Liver', 'positive'], \n",
    "         [all_corr_positiv_extremities[2], all_corr_positiv_extremities[3], 'LIHC', 'positive']\n",
    "         ]\n",
    "\n",
    "data_neg =  [\n",
    "         [all_corr_negativ_extremities[0], all_corr_negativ_extremities[1], 'Liver', 'negative'], \n",
    "         [all_corr_negativ_extremities[2], all_corr_negativ_extremities[3], 'LIHC', 'negative']\n",
    "         ]\n",
    "\n",
    "data = data_pos + data_neg\n",
    "\n",
    "for dfs in data:\n",
    "    set1 = set(dfs[0]['hgnc_symbol'])\n",
    "    set2 = set(dfs[1]['hgnc_symbol'])\n",
    "    subset = (set1, set2)\n",
    "\n",
    "    #save results in list\n",
    "    with_only1 = list(set2.symmetric_difference(set1) & set1)\n",
    "    with_only2 = list(set2.symmetric_difference(set1) & set2)\n",
    "    intersection = set1.intersection(set2)\n",
    "\n",
    "    #create a dictionnary\n",
    "    d = dict(Only_ATG7_1 = with_only1, Only_ATG7_2 = with_only2, Intersection= intersection)\n",
    "\n",
    "    #Convert to dataframe\n",
    "    df_only_and_intersection = pandas.DataFrame.from_dict(d, orient='index')\n",
    "    name_file = 'only_and_intersection_isos_'+dfs[2]+'_'+dfs[3]\n",
    "       \n",
    "    #Transpose to have a better table and save\n",
    "    df_only_and_intersection = df_only_and_intersection.transpose()\n",
    "    df_only_and_intersection['info'] = dfs[2]+dfs[3]\n",
    "    \n",
    "    path = 'ATG7/TCGA_GTEX/liver/correlation/tables/'\n",
    "    df_only_and_intersection.to_excel(output_file_directory+path+name_file+'.xlsx', index=False)\n",
    "    \n",
    "    #Venn Diagram\n",
    "    venn2(subset, set_labels=('ATG7(1)', 'ATG7(2)'), set_colors=('grey', 'darksalmon'))\n",
    "    label_title = dfs[2] + ' ' + dfs[3]\n",
    "    plt.title(label_title)\n",
    "    plt.show()\n",
    "    plt.clf()\n",
    "    print()"
   ]
  },
  {
   "cell_type": "markdown",
   "metadata": {},
   "source": [
    "## 3) Venn diagrams of the 1% the most correlated genes for each isoform in normal and primary tissues"
   ]
  },
  {
   "cell_type": "code",
   "execution_count": 21,
   "metadata": {},
   "outputs": [
    {
     "data": {
      "image/png": "[encoded data removed]",
      "text/plain": [
       "<Figure size 864x576 with 1 Axes>"
      ]
     },
     "metadata": {},
     "output_type": "display_data"
    },
    {
     "name": "stdout",
     "output_type": "stream",
     "text": [
      "\n"
     ]
    },
    {
     "data": {
      "image/png": "[encoded data removed]",
      "text/plain": [
       "<Figure size 864x576 with 1 Axes>"
      ]
     },
     "metadata": {},
     "output_type": "display_data"
    },
    {
     "name": "stdout",
     "output_type": "stream",
     "text": [
      "\n"
     ]
    },
    {
     "data": {
      "image/png": "[encoded data removed]",
      "text/plain": [
       "<Figure size 864x576 with 1 Axes>"
      ]
     },
     "metadata": {},
     "output_type": "display_data"
    },
    {
     "name": "stdout",
     "output_type": "stream",
     "text": [
      "\n"
     ]
    },
    {
     "data": {
      "image/png": "[encoded data removed]",
      "text/plain": [
       "<Figure size 864x576 with 1 Axes>"
      ]
     },
     "metadata": {},
     "output_type": "display_data"
    },
    {
     "name": "stdout",
     "output_type": "stream",
     "text": [
      "\n"
     ]
    },
    {
     "data": {
      "text/plain": [
       "<Figure size 864x576 with 0 Axes>"
      ]
     },
     "metadata": {},
     "output_type": "display_data"
    }
   ],
   "source": [
    "#VENN DIAGRAMS FOR NORM vs PRIM for the 1% of the genes the most correlated\n",
    "data_pos =  [\n",
    "         [all_corr_positiv_extremities[0], all_corr_positiv_extremities[2], 'ATG7(1)', 'positive'], \n",
    "         [all_corr_positiv_extremities[1], all_corr_positiv_extremities[3], 'ATG7(2)', 'positive']\n",
    "         ]\n",
    "\n",
    "data_neg =  [\n",
    "         [all_corr_negativ_extremities[0], all_corr_negativ_extremities[2], 'ATG7(1)', 'negative'], \n",
    "         [all_corr_negativ_extremities[1], all_corr_negativ_extremities[3], 'ATG7(2)', 'negative']\n",
    "         ]\n",
    "\n",
    "data = data_pos + data_neg\n",
    "\n",
    "for dfs in data:\n",
    "    set1 = set(dfs[0]['hgnc_symbol'])\n",
    "    set2 = set(dfs[1]['hgnc_symbol'])\n",
    "    subset = (set1, set2)\n",
    "\n",
    "    #save results in list\n",
    "    with_normal = list(set2.symmetric_difference(set1) & set1)\n",
    "    with_primary = list(set2.symmetric_difference(set1) & set2)\n",
    "    intersection = set1.intersection(set2)\n",
    "\n",
    "    #create a dictionnary\n",
    "    d = dict(Only_normal = with_normal, Only_primary = with_primary, Intersection= intersection)\n",
    "\n",
    "    #Convert to dataframe\n",
    "    df_only_and_intersection = pandas.DataFrame.from_dict(d, orient='index')\n",
    "    name_file = 'only_and_intersection_isos_'+dfs[2]+'_'+dfs[3]\n",
    "       \n",
    "    #Transpose to have a better table and save\n",
    "    df_only_and_intersection = df_only_and_intersection.transpose()\n",
    "    df_only_and_intersection['info'] = dfs[2]+dfs[3]\n",
    "    \n",
    "    path = 'ATG7/table_correlation_enrichr/all_tissue_ATG7/corr_extremities/'\n",
    "#     df_only_and_intersection.to_excel(output_file_directory+path+name_file+'.xlsx', index=False)\n",
    "    \n",
    "    #Venn Diagram\n",
    "    venn2(subset, set_labels=('Liver', 'LIHC'), set_colors=('grey', 'darksalmon'))\n",
    "    label_title = dfs[2] + ' ' + dfs[3]\n",
    "    plt.title(label_title)\n",
    "    plt.show()\n",
    "    plt.clf()\n",
    "    print()\n"
   ]
  }
 ],
 "metadata": {
  "colab": {
   "collapsed_sections": [
    "scwtwuDCqUKz",
    "fbjL51C8RltI",
    "R8fLWHXOBYJl"
   ],
   "name": "all_organs.v004.ipynb",
   "provenance": []
  },
  "kernelspec": {
   "display_name": "Python 3",
   "language": "python",
   "name": "python3"
  },
  "language_info": {
   "codemirror_mode": {
    "name": "ipython",
    "version": 3
   },
   "file_extension": ".py",
   "mimetype": "text/x-python",
   "name": "python",
   "nbconvert_exporter": "python",
   "pygments_lexer": "ipython3",
   "version": "3.8.5"
  }
 },
 "nbformat": 4,
 "nbformat_minor": 1
}
