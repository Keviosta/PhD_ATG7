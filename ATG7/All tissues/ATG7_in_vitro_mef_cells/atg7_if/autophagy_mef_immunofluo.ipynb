{
 "cells": [
  {
   "cell_type": "markdown",
   "metadata": {
    "id": "wYGSc-xPDaFV"
   },
   "source": [
    "# I] Import and options\n"
   ]
  },
  {
   "cell_type": "code",
   "execution_count": 56,
   "metadata": {},
   "outputs": [],
   "source": [
    "import pandas, numpy, seaborn, scipy, scipy.stats\n",
    "import matplotlib, matplotlib.pyplot as plt\n",
    "# have text as text and not curve in .svg\n",
    "matplotlib.rcParams['svg.fonttype'] = 'none'\n",
    "# this is a trick to make figures look nicer\n",
    "matplotlib.rcParams.update({'font.size':24, 'font.family':'FreeSans', 'xtick.labelsize':20, 'ytick.labelsize':20, 'figure.figsize':(12, 8)})"
   ]
  },
  {
   "cell_type": "code",
   "execution_count": 57,
   "metadata": {},
   "outputs": [],
   "source": [
    "input_file_directory = '/Users/kja11/OneDrive - Háskóli Íslands/PhD ATG7//0 in_silico/Python/1)data_input/'\n",
    "output_file_directory = '/Users/kja11/OneDrive - Háskóli Íslands/PhD ATG7/0 in_silico/Python/3)output/'"
   ]
  },
  {
   "cell_type": "markdown",
   "metadata": {},
   "source": [
    "# II] DL data"
   ]
  },
  {
   "cell_type": "code",
   "execution_count": 123,
   "metadata": {},
   "outputs": [
    {
     "data": {
      "text/html": [
       "<div>\n",
       "<style scoped>\n",
       "    .dataframe tbody tr th:only-of-type {\n",
       "        vertical-align: middle;\n",
       "    }\n",
       "\n",
       "    .dataframe tbody tr th {\n",
       "        vertical-align: top;\n",
       "    }\n",
       "\n",
       "    .dataframe thead th {\n",
       "        text-align: right;\n",
       "    }\n",
       "</style>\n",
       "<table border=\"1\" class=\"dataframe\">\n",
       "  <thead>\n",
       "    <tr style=\"text-align: right;\">\n",
       "      <th></th>\n",
       "      <th>22-23 June</th>\n",
       "      <th>25 July</th>\n",
       "      <th>29 July</th>\n",
       "      <th>sampl_cond</th>\n",
       "    </tr>\n",
       "  </thead>\n",
       "  <tbody>\n",
       "    <tr>\n",
       "      <th>0</th>\n",
       "      <td>1</td>\n",
       "      <td>1</td>\n",
       "      <td>1</td>\n",
       "      <td>W1_normal</td>\n",
       "    </tr>\n",
       "    <tr>\n",
       "      <th>1</th>\n",
       "      <td>0.747007341</td>\n",
       "      <td>1.165293122</td>\n",
       "      <td>1.058339648</td>\n",
       "      <td>W1_baf</td>\n",
       "    </tr>\n",
       "    <tr>\n",
       "      <th>2</th>\n",
       "      <td>0.695899245</td>\n",
       "      <td>1.2331259</td>\n",
       "      <td>1.357184954</td>\n",
       "      <td>VSR1_normal</td>\n",
       "    </tr>\n",
       "    <tr>\n",
       "      <th>3</th>\n",
       "      <td>0.545407657</td>\n",
       "      <td>1.293</td>\n",
       "      <td>1.246785847</td>\n",
       "      <td>VSR1_baf</td>\n",
       "    </tr>\n",
       "    <tr>\n",
       "      <th>5</th>\n",
       "      <td>1</td>\n",
       "      <td>1</td>\n",
       "      <td>1</td>\n",
       "      <td>MEF_normal</td>\n",
       "    </tr>\n",
       "    <tr>\n",
       "      <th>6</th>\n",
       "      <td>0.758094212</td>\n",
       "      <td>1.013874616</td>\n",
       "      <td>1.032857841</td>\n",
       "      <td>MEF_baf</td>\n",
       "    </tr>\n",
       "    <tr>\n",
       "      <th>7</th>\n",
       "      <td>1.041526277</td>\n",
       "      <td>1.312706481</td>\n",
       "      <td>1.532592586</td>\n",
       "      <td>EV_normal</td>\n",
       "    </tr>\n",
       "    <tr>\n",
       "      <th>8</th>\n",
       "      <td>1.20249981</td>\n",
       "      <td>1.145873135</td>\n",
       "      <td>1.497473769</td>\n",
       "      <td>EV_baf</td>\n",
       "    </tr>\n",
       "  </tbody>\n",
       "</table>\n",
       "</div>"
      ],
      "text/plain": [
       "    22-23 June      25 July      29 July   sampl_cond\n",
       "0            1            1            1    W1_normal\n",
       "1  0.747007341  1.165293122  1.058339648       W1_baf\n",
       "2  0.695899245    1.2331259  1.357184954  VSR1_normal\n",
       "3  0.545407657        1.293  1.246785847     VSR1_baf\n",
       "5            1            1            1   MEF_normal\n",
       "6  0.758094212  1.013874616  1.032857841      MEF_baf\n",
       "7  1.041526277  1.312706481  1.532592586    EV_normal\n",
       "8   1.20249981  1.145873135  1.497473769       EV_baf"
      ]
     },
     "execution_count": 123,
     "metadata": {},
     "output_type": "execute_result"
    }
   ],
   "source": [
    "path = input_file_directory + \"mefs/mefs_if/MEFs_if.csv\" #download\n",
    "df = pandas.read_csv(path, sep = \";\")\n",
    "df = df.apply(lambda x: x.str.replace(',','.')) #replace coma to dot\n",
    "df = df.dropna(axis=0) #drop na\n",
    "\n",
    "df['sampl_cond'] = df[['samples', 'condition']].agg('_'.join, axis=1) #pull two columns\n",
    "df = df.iloc[:,2:] #select columns\n",
    "df"
   ]
  },
  {
   "cell_type": "code",
   "execution_count": 105,
   "metadata": {},
   "outputs": [
    {
     "data": {
      "text/html": [
       "<div>\n",
       "<style scoped>\n",
       "    .dataframe tbody tr th:only-of-type {\n",
       "        vertical-align: middle;\n",
       "    }\n",
       "\n",
       "    .dataframe tbody tr th {\n",
       "        vertical-align: top;\n",
       "    }\n",
       "\n",
       "    .dataframe thead th {\n",
       "        text-align: right;\n",
       "    }\n",
       "</style>\n",
       "<table border=\"1\" class=\"dataframe\">\n",
       "  <thead>\n",
       "    <tr style=\"text-align: right;\">\n",
       "      <th></th>\n",
       "      <th>22-23 June</th>\n",
       "      <th>25 July</th>\n",
       "      <th>29 July</th>\n",
       "      <th>sampl_cond</th>\n",
       "    </tr>\n",
       "  </thead>\n",
       "  <tbody>\n",
       "    <tr>\n",
       "      <th>0</th>\n",
       "      <td>1</td>\n",
       "      <td>1</td>\n",
       "      <td>1</td>\n",
       "      <td>W1_normal</td>\n",
       "    </tr>\n",
       "    <tr>\n",
       "      <th>1</th>\n",
       "      <td>0.747007341</td>\n",
       "      <td>1.165293122</td>\n",
       "      <td>1.058339648</td>\n",
       "      <td>W1_baf</td>\n",
       "    </tr>\n",
       "    <tr>\n",
       "      <th>2</th>\n",
       "      <td>0.695899245</td>\n",
       "      <td>1.2331259</td>\n",
       "      <td>1.357184954</td>\n",
       "      <td>VSR1_normal</td>\n",
       "    </tr>\n",
       "    <tr>\n",
       "      <th>3</th>\n",
       "      <td>0.545407657</td>\n",
       "      <td>1.293</td>\n",
       "      <td>1.246785847</td>\n",
       "      <td>VSR1_baf</td>\n",
       "    </tr>\n",
       "  </tbody>\n",
       "</table>\n",
       "</div>"
      ],
      "text/plain": [
       "    22-23 June      25 July      29 July   sampl_cond\n",
       "0            1            1            1    W1_normal\n",
       "1  0.747007341  1.165293122  1.058339648       W1_baf\n",
       "2  0.695899245    1.2331259  1.357184954  VSR1_normal\n",
       "3  0.545407657        1.293  1.246785847     VSR1_baf"
      ]
     },
     "execution_count": 105,
     "metadata": {},
     "output_type": "execute_result"
    }
   ],
   "source": [
    "df_iso1 = df.iloc[:4,:]\n",
    "df_ctl = df.iloc[4:,:]\n",
    "df_iso1"
   ]
  },
  {
   "cell_type": "code",
   "execution_count": 160,
   "metadata": {},
   "outputs": [
    {
     "data": {
      "text/html": [
       "<div>\n",
       "<style scoped>\n",
       "    .dataframe tbody tr th:only-of-type {\n",
       "        vertical-align: middle;\n",
       "    }\n",
       "\n",
       "    .dataframe tbody tr th {\n",
       "        vertical-align: top;\n",
       "    }\n",
       "\n",
       "    .dataframe thead th {\n",
       "        text-align: right;\n",
       "    }\n",
       "</style>\n",
       "<table border=\"1\" class=\"dataframe\">\n",
       "  <thead>\n",
       "    <tr style=\"text-align: right;\">\n",
       "      <th></th>\n",
       "      <th>22-23 June</th>\n",
       "      <th>25 July</th>\n",
       "      <th>29 July</th>\n",
       "      <th>sampl_cond</th>\n",
       "    </tr>\n",
       "  </thead>\n",
       "  <tbody>\n",
       "    <tr>\n",
       "      <th>0</th>\n",
       "      <td>1</td>\n",
       "      <td>1</td>\n",
       "      <td>1</td>\n",
       "      <td>MEF_normal</td>\n",
       "    </tr>\n",
       "    <tr>\n",
       "      <th>1</th>\n",
       "      <td>0.758094212</td>\n",
       "      <td>1.013874616</td>\n",
       "      <td>1.032857841</td>\n",
       "      <td>MEF_baf</td>\n",
       "    </tr>\n",
       "    <tr>\n",
       "      <th>2</th>\n",
       "      <td>1.041526277</td>\n",
       "      <td>1.312706481</td>\n",
       "      <td>1.532592586</td>\n",
       "      <td>EV_normal</td>\n",
       "    </tr>\n",
       "    <tr>\n",
       "      <th>3</th>\n",
       "      <td>1.20249981</td>\n",
       "      <td>1.145873135</td>\n",
       "      <td>1.497473769</td>\n",
       "      <td>EV_baf</td>\n",
       "    </tr>\n",
       "  </tbody>\n",
       "</table>\n",
       "</div>"
      ],
      "text/plain": [
       "    22-23 June      25 July      29 July  sampl_cond\n",
       "0            1            1            1  MEF_normal\n",
       "1  0.758094212  1.013874616  1.032857841     MEF_baf\n",
       "2  1.041526277  1.312706481  1.532592586   EV_normal\n",
       "3   1.20249981  1.145873135  1.497473769      EV_baf"
      ]
     },
     "execution_count": 160,
     "metadata": {},
     "output_type": "execute_result"
    }
   ],
   "source": [
    "Data"
   ]
  },
  {
   "cell_type": "code",
   "execution_count": 180,
   "metadata": {},
   "outputs": [
    {
     "name": "stdout",
     "output_type": "stream",
     "text": [
      "sampl_cond    W1_normal\n",
      "Name: 0, dtype: object\n"
     ]
    }
   ],
   "source": [
    "a = str(Data.iloc[0, 3:4])\n",
    "print(a)"
   ]
  },
  {
   "cell_type": "code",
   "execution_count": 181,
   "metadata": {},
   "outputs": [
    {
     "data": {
      "text/plain": [
       "'W1_normal'"
      ]
     },
     "execution_count": 181,
     "metadata": {},
     "output_type": "execute_result"
    }
   ],
   "source": [
    "Data.loc[0]['sampl_cond']"
   ]
  },
  {
   "cell_type": "code",
   "execution_count": 182,
   "metadata": {},
   "outputs": [
    {
     "name": "stdout",
     "output_type": "stream",
     "text": [
      "the pvalue between W1_normal and VSR1_normal is 3.214E-01\n",
      "the pvalue between W1_baf and VSR1_baf is 3.313E-01\n"
     ]
    }
   ],
   "source": []
  },
  {
   "cell_type": "code",
   "execution_count": null,
   "metadata": {},
   "outputs": [],
   "source": []
  },
  {
   "cell_type": "code",
   "execution_count": 187,
   "metadata": {
    "scrolled": false
   },
   "outputs": [
    {
     "name": "stdout",
     "output_type": "stream",
     "text": [
      "WITHOUT ATG7\n",
      "the pvalue between MEF_normal and EV_normal is 3.180E-02\n",
      "the pvalue between MEF_baf and EV_baf is 4.043E-02\n",
      "WITHOUT VSR\n",
      "the pvalue between W1_normal and VSR1_normal is 3.214E-01\n",
      "the pvalue between W1_baf and VSR1_baf is 3.313E-01\n"
     ]
    },
    {
     "data": {
      "image/png": "[encoded data removed]",
      "text/plain": [
       "<Figure size 432x360 with 1 Axes>"
      ]
     },
     "metadata": {
      "needs_background": "light"
     },
     "output_type": "display_data"
    },
    {
     "data": {
      "image/png": "[encoded data removed]",
      "text/plain": [
       "<Figure size 432x360 with 1 Axes>"
      ]
     },
     "metadata": {
      "needs_background": "light"
     },
     "output_type": "display_data"
    }
   ],
   "source": [
    "# Distribution: Data preparation + graph\n",
    "dfs = [df_ctl, df_iso1]\n",
    "infos = ['without ATG7', 'without VSR']\n",
    "for i in range(len(dfs)) :\n",
    "    Data = dfs[i]\n",
    "    Info = infos[i]\n",
    "    \n",
    "    # Mann-Whitney analysis \n",
    "    print(Info.upper())\n",
    "    ##Control\n",
    "    statistic, pvalue = scipy.stats.mannwhitneyu(Data.iloc[0, :3], Data.iloc[2, :3])\n",
    "    Pvalue = \"{:.3E}\".format(pvalue)\n",
    "    print(\"the pvalue between\", Data.loc[0]['sampl_cond'], \"and\", Data.loc[2]['sampl_cond'],\"is\", Pvalue)\n",
    "    ##Iso 1 vs dVSR\n",
    "    statistic, pvalue = scipy.stats.mannwhitneyu(Data.iloc[1, :3], Data.iloc[3, :3])\n",
    "    Pvalue = \"{:.3E}\".format(pvalue)\n",
    "    print(\"the pvalue between\", Data.loc[1]['sampl_cond'], \"and\", Data.loc[3]['sampl_cond'],\"is\", Pvalue)   \n",
    "    \n",
    "    Data.reset_index(inplace = True, drop = True)\n",
    "    shape = Data.shape\n",
    "    shape = shape[0]\n",
    "#     print(shape)\n",
    "\n",
    "    #select the sample type column\n",
    "    sample_type = {'sampl_cond':[Data.iloc[:,3][i]\n",
    "                                 for i in range(0, shape)]}\n",
    "\n",
    "    #convert to df, and copy it 3 times\n",
    "    sample_typedf = pandas.DataFrame(sample_type)\n",
    "    sample_typedf = pandas.concat([sample_typedf,sample_typedf,sample_typedf])\n",
    "    sample_typedf.reset_index(drop=True, inplace=True)\n",
    "\n",
    "    # Y for expression value \n",
    "    y = {'y':[Data.iloc[:,j][i]\n",
    "      for j in range(0,3)\n",
    "        for i in range(0, shape)]}\n",
    "\n",
    "    #create df with Y \n",
    "    data_distrib = pandas.DataFrame(y)\n",
    "    data_distrib['y'] = data_distrib['y'].astype(float)\n",
    "    \n",
    "    #add x\n",
    "    cond = 'DMSO', 'BAFILOMYCIN'\n",
    "    data_distrib['x'] = cond*6\n",
    "    data_distrib\n",
    "\n",
    "    # Will be used for Hue\n",
    "    data_distrib['sampl_cond'] = sample_typedf['sampl_cond']\n",
    "    # + rename and split\n",
    "    data_distrib['sampl_cond'] = data_distrib['sampl_cond'].str.split('_', expand=True)\n",
    "    data_distrib = data_distrib.replace({'sampl_cond' : {'MEF':'MEF WT',\n",
    "                                                     'EV':'ATG7-/-',\n",
    "                                                     'W1':'ATG7',\n",
    "                                                     'VSR1':'dVSR'}})\n",
    "    \n",
    "    #graph\n",
    "    seaborn.catplot(x=\"x\", y=\"y\", hue=\"sampl_cond\", aspect= 1.2, kind=\"box\", palette = 'mako',\n",
    "                    data = data_distrib, boxprops={'lw':2, 'alpha' : 0.8}, medianprops={'lw':2}, whiskerprops={'lw':2}, \n",
    "                    showcaps=True, showfliers=False, legend=False)\n",
    "\n",
    "    plt.grid(alpha = 0.5, ls=':')\n",
    "    plt.ylabel('relative int. fluo.')\n",
    "    plt.xlabel('')\n",
    "    plt.title('LC3 puncta '+ Info + ' (n=3)', x=.55)\n",
    "    plt.tight_layout()\n",
    "    plt.legend(loc='center right', fontsize=20, bbox_to_anchor=(1.55, 0.5))\n"
   ]
  }
 ],
 "metadata": {
  "kernelspec": {
   "display_name": "Python 3",
   "language": "python",
   "name": "python3"
  },
  "language_info": {
   "codemirror_mode": {
    "name": "ipython",
    "version": 3
   },
   "file_extension": ".py",
   "mimetype": "text/x-python",
   "name": "python",
   "nbconvert_exporter": "python",
   "pygments_lexer": "ipython3",
   "version": "3.8.5"
  }
 },
 "nbformat": 4,
 "nbformat_minor": 4
}
