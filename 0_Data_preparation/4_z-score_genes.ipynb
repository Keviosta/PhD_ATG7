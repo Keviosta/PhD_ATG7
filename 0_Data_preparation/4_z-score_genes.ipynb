{
 "cells": [
  {
   "cell_type": "code",
   "execution_count": 4,
   "metadata": {},
   "outputs": [],
   "source": [
    "import pandas, numpy"
   ]
  },
  {
   "cell_type": "code",
   "execution_count": 10,
   "metadata": {},
   "outputs": [],
   "source": [
    "input_file_directory = '/Users/kja11/OneDrive - Háskóli Íslands/PhD ATG7//0 in_silico/Python/1)data_input/'\n",
    "output_file_directory = '/Users/kja11/OneDrive - Háskóli Íslands/PhD ATG7/0 in_silico/Python/3)output/'"
   ]
  },
  {
   "cell_type": "code",
   "execution_count": 11,
   "metadata": {},
   "outputs": [],
   "source": [
    "path = 'ATG7/TCGA_GTEX/'\n",
    "path2 = 'all_filtered_tissues/dataframes_for_input/'"
   ]
  },
  {
   "cell_type": "code",
   "execution_count": 17,
   "metadata": {},
   "outputs": [
    {
     "name": "stdout",
     "output_type": "stream",
     "text": [
      "(3753, 18)\n",
      "(5300, 18)\n",
      "Wall time: 72.8 ms\n"
     ]
    },
    {
     "data": {
      "text/html": [
       "<div>\n",
       "<style scoped>\n",
       "    .dataframe tbody tr th:only-of-type {\n",
       "        vertical-align: middle;\n",
       "    }\n",
       "\n",
       "    .dataframe tbody tr th {\n",
       "        vertical-align: top;\n",
       "    }\n",
       "\n",
       "    .dataframe thead th {\n",
       "        text-align: right;\n",
       "    }\n",
       "</style>\n",
       "<table border=\"1\" class=\"dataframe\">\n",
       "  <thead>\n",
       "    <tr style=\"text-align: right;\">\n",
       "      <th></th>\n",
       "      <th>Sample_Type</th>\n",
       "      <th>Primary_Site</th>\n",
       "      <th>OS</th>\n",
       "      <th>OS_time</th>\n",
       "      <th>ATG7</th>\n",
       "      <th>ATG7_1</th>\n",
       "      <th>ATG7_2</th>\n",
       "      <th>ATG7_3</th>\n",
       "      <th>ATG7_tpm</th>\n",
       "      <th>ATG7_1tpm</th>\n",
       "      <th>ATG7_2tpm</th>\n",
       "      <th>ATG7_3tpm</th>\n",
       "      <th>ATG7_prot_tot</th>\n",
       "      <th>ATG7_1perc</th>\n",
       "      <th>ATG7_2perc</th>\n",
       "      <th>ATG7_3perc</th>\n",
       "      <th>ATG7_1norm</th>\n",
       "      <th>ATG7_2norm</th>\n",
       "    </tr>\n",
       "    <tr>\n",
       "      <th>sample</th>\n",
       "      <th></th>\n",
       "      <th></th>\n",
       "      <th></th>\n",
       "      <th></th>\n",
       "      <th></th>\n",
       "      <th></th>\n",
       "      <th></th>\n",
       "      <th></th>\n",
       "      <th></th>\n",
       "      <th></th>\n",
       "      <th></th>\n",
       "      <th></th>\n",
       "      <th></th>\n",
       "      <th></th>\n",
       "      <th></th>\n",
       "      <th></th>\n",
       "      <th></th>\n",
       "      <th></th>\n",
       "    </tr>\n",
       "  </thead>\n",
       "  <tbody>\n",
       "    <tr>\n",
       "      <th>GTEX-132AR-1726-SM-5EGHQ</th>\n",
       "      <td>Normal Tissue</td>\n",
       "      <td>Adrenal Gland</td>\n",
       "      <td>NaN</td>\n",
       "      <td>NaN</td>\n",
       "      <td>4.558498</td>\n",
       "      <td>2.996009</td>\n",
       "      <td>2.021477</td>\n",
       "      <td>0.879716</td>\n",
       "      <td>22.563767</td>\n",
       "      <td>6.977902</td>\n",
       "      <td>3.059994</td>\n",
       "      <td>0.840013</td>\n",
       "      <td>10.877908</td>\n",
       "      <td>64.147459</td>\n",
       "      <td>28.130349</td>\n",
       "      <td>7.722192</td>\n",
       "      <td>0.309253</td>\n",
       "      <td>0.135615</td>\n",
       "    </tr>\n",
       "    <tr>\n",
       "      <th>GTEX-U4B1-0126-SM-4DXSN</th>\n",
       "      <td>Normal Tissue</td>\n",
       "      <td>Adrenal Gland</td>\n",
       "      <td>NaN</td>\n",
       "      <td>NaN</td>\n",
       "      <td>4.364710</td>\n",
       "      <td>3.132488</td>\n",
       "      <td>2.210724</td>\n",
       "      <td>0.963466</td>\n",
       "      <td>19.601965</td>\n",
       "      <td>7.769460</td>\n",
       "      <td>3.629077</td>\n",
       "      <td>0.949989</td>\n",
       "      <td>12.348525</td>\n",
       "      <td>62.918120</td>\n",
       "      <td>29.388745</td>\n",
       "      <td>7.693134</td>\n",
       "      <td>0.396361</td>\n",
       "      <td>0.185138</td>\n",
       "    </tr>\n",
       "  </tbody>\n",
       "</table>\n",
       "</div>"
      ],
      "text/plain": [
       "                            Sample_Type   Primary_Site  OS  OS_time      ATG7  \\\n",
       "sample                                                                          \n",
       "GTEX-132AR-1726-SM-5EGHQ  Normal Tissue  Adrenal Gland NaN      NaN  4.558498   \n",
       "GTEX-U4B1-0126-SM-4DXSN   Normal Tissue  Adrenal Gland NaN      NaN  4.364710   \n",
       "\n",
       "                            ATG7_1    ATG7_2    ATG7_3   ATG7_tpm  ATG7_1tpm  \\\n",
       "sample                                                                         \n",
       "GTEX-132AR-1726-SM-5EGHQ  2.996009  2.021477  0.879716  22.563767   6.977902   \n",
       "GTEX-U4B1-0126-SM-4DXSN   3.132488  2.210724  0.963466  19.601965   7.769460   \n",
       "\n",
       "                          ATG7_2tpm  ATG7_3tpm  ATG7_prot_tot  ATG7_1perc  \\\n",
       "sample                                                                      \n",
       "GTEX-132AR-1726-SM-5EGHQ   3.059994   0.840013      10.877908   64.147459   \n",
       "GTEX-U4B1-0126-SM-4DXSN    3.629077   0.949989      12.348525   62.918120   \n",
       "\n",
       "                          ATG7_2perc  ATG7_3perc  ATG7_1norm  ATG7_2norm  \n",
       "sample                                                                    \n",
       "GTEX-132AR-1726-SM-5EGHQ   28.130349    7.722192    0.309253    0.135615  \n",
       "GTEX-U4B1-0126-SM-4DXSN    29.388745    7.693134    0.396361    0.185138  "
      ]
     },
     "execution_count": 17,
     "metadata": {},
     "output_type": "execute_result"
    }
   ],
   "source": [
    "%%time\n",
    "# DL data gene expression for Normal Tissue and Primary Tumors\n",
    "df_normal= pandas.read_csv(output_file_directory+path+path2+\"df_ATG7_Normal_filtered.csv\", sep = \",\", index_col='sample')\n",
    "df_primary= pandas.read_csv(output_file_directory+path+path2+\"df_ATG7_Primary_filtered.csv\", sep = \",\", index_col='sample')\n",
    "\n",
    "print(df_normal.shape)\n",
    "print(df_primary.shape)\n",
    "\n",
    "df_normal.head(2)"
   ]
  },
  {
   "cell_type": "code",
   "execution_count": null,
   "metadata": {},
   "outputs": [],
   "source": []
  }
 ],
 "metadata": {
  "kernelspec": {
   "display_name": "Python 3",
   "language": "python",
   "name": "python3"
  },
  "language_info": {
   "codemirror_mode": {
    "name": "ipython",
    "version": 3
   },
   "file_extension": ".py",
   "mimetype": "text/x-python",
   "name": "python",
   "nbconvert_exporter": "python",
   "pygments_lexer": "ipython3",
   "version": "3.8.5"
  }
 },
 "nbformat": 4,
 "nbformat_minor": 4
}
